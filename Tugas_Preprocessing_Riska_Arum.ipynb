{
  "nbformat": 4,
  "nbformat_minor": 0,
  "metadata": {
    "colab": {
      "provenance": []
    },
    "kernelspec": {
      "name": "python3",
      "display_name": "Python 3"
    },
    "language_info": {
      "name": "python"
    }
  },
  "cells": [
    {
      "cell_type": "markdown",
      "source": [
        "# **TUGAS PREPROCESSING**\n",
        "\n",
        "NAMA : RISKA ARUM M. S.\n",
        "\n",
        "NIM : 4101422126\n",
        "\n",
        "\n",
        "## **1. Menampilkan Informasi Data dan Cek Misising Value**\n"
      ],
      "metadata": {
        "id": "no1jVEl_-wO3"
      }
    },
    {
      "cell_type": "code",
      "source": [
        "import pandas as pd\n",
        "import numpy as np\n",
        "import matplotlib.pyplot as pl"
      ],
      "metadata": {
        "id": "WKdWfrK9-1-C"
      },
      "execution_count": 1,
      "outputs": []
    },
    {
      "cell_type": "code",
      "source": [
        "#pemanggilan data\n",
        "data = pd.read_csv(\"/content/produk_elektronik.csv\")\n",
        "data"
      ],
      "metadata": {
        "colab": {
          "base_uri": "https://localhost:8080/",
          "height": 423
        },
        "id": "oM1Xo6Nt-78B",
        "outputId": "f7112eb1-2a30-4eb4-9ec7-51ea48048d1c"
      },
      "execution_count": 3,
      "outputs": [
        {
          "output_type": "execute_result",
          "data": {
            "text/plain": [
              "     produk_id nama_produk    kategori  harga  rating  jumlah_ulasan  \\\n",
              "0            1    Produk_1  Smartwatch  746.0     4.2          273.0   \n",
              "1            2    Produk_2   Headphone  241.0     3.5          239.0   \n",
              "2            3    Produk_3      Tablet  810.0     3.8          209.0   \n",
              "3            4    Produk_4   Headphone  303.0     3.2           59.0   \n",
              "4            5    Produk_5   Headphone  252.0     3.7           76.0   \n",
              "..         ...         ...         ...    ...     ...            ...   \n",
              "545        546  Produk_546      Laptop  496.0     3.9           19.0   \n",
              "546        547  Produk_547   Headphone  628.0     4.7          414.0   \n",
              "547        548  Produk_548      Tablet  465.0     4.3          393.0   \n",
              "548        549  Produk_549      Laptop  495.0     3.1          311.0   \n",
              "549        550  Produk_550      Tablet  388.0     4.3          240.0   \n",
              "\n",
              "     negara_asal  \n",
              "0          Japan  \n",
              "1         Canada  \n",
              "2         Canada  \n",
              "3    South Korea  \n",
              "4    South Korea  \n",
              "..           ...  \n",
              "545        China  \n",
              "546          USA  \n",
              "547        India  \n",
              "548      Germany  \n",
              "549      Germany  \n",
              "\n",
              "[550 rows x 7 columns]"
            ],
            "text/html": [
              "\n",
              "  <div id=\"df-74b9d5b5-1c8c-4784-b8a2-cb169e3e9aaf\" class=\"colab-df-container\">\n",
              "    <div>\n",
              "<style scoped>\n",
              "    .dataframe tbody tr th:only-of-type {\n",
              "        vertical-align: middle;\n",
              "    }\n",
              "\n",
              "    .dataframe tbody tr th {\n",
              "        vertical-align: top;\n",
              "    }\n",
              "\n",
              "    .dataframe thead th {\n",
              "        text-align: right;\n",
              "    }\n",
              "</style>\n",
              "<table border=\"1\" class=\"dataframe\">\n",
              "  <thead>\n",
              "    <tr style=\"text-align: right;\">\n",
              "      <th></th>\n",
              "      <th>produk_id</th>\n",
              "      <th>nama_produk</th>\n",
              "      <th>kategori</th>\n",
              "      <th>harga</th>\n",
              "      <th>rating</th>\n",
              "      <th>jumlah_ulasan</th>\n",
              "      <th>negara_asal</th>\n",
              "    </tr>\n",
              "  </thead>\n",
              "  <tbody>\n",
              "    <tr>\n",
              "      <th>0</th>\n",
              "      <td>1</td>\n",
              "      <td>Produk_1</td>\n",
              "      <td>Smartwatch</td>\n",
              "      <td>746.0</td>\n",
              "      <td>4.2</td>\n",
              "      <td>273.0</td>\n",
              "      <td>Japan</td>\n",
              "    </tr>\n",
              "    <tr>\n",
              "      <th>1</th>\n",
              "      <td>2</td>\n",
              "      <td>Produk_2</td>\n",
              "      <td>Headphone</td>\n",
              "      <td>241.0</td>\n",
              "      <td>3.5</td>\n",
              "      <td>239.0</td>\n",
              "      <td>Canada</td>\n",
              "    </tr>\n",
              "    <tr>\n",
              "      <th>2</th>\n",
              "      <td>3</td>\n",
              "      <td>Produk_3</td>\n",
              "      <td>Tablet</td>\n",
              "      <td>810.0</td>\n",
              "      <td>3.8</td>\n",
              "      <td>209.0</td>\n",
              "      <td>Canada</td>\n",
              "    </tr>\n",
              "    <tr>\n",
              "      <th>3</th>\n",
              "      <td>4</td>\n",
              "      <td>Produk_4</td>\n",
              "      <td>Headphone</td>\n",
              "      <td>303.0</td>\n",
              "      <td>3.2</td>\n",
              "      <td>59.0</td>\n",
              "      <td>South Korea</td>\n",
              "    </tr>\n",
              "    <tr>\n",
              "      <th>4</th>\n",
              "      <td>5</td>\n",
              "      <td>Produk_5</td>\n",
              "      <td>Headphone</td>\n",
              "      <td>252.0</td>\n",
              "      <td>3.7</td>\n",
              "      <td>76.0</td>\n",
              "      <td>South Korea</td>\n",
              "    </tr>\n",
              "    <tr>\n",
              "      <th>...</th>\n",
              "      <td>...</td>\n",
              "      <td>...</td>\n",
              "      <td>...</td>\n",
              "      <td>...</td>\n",
              "      <td>...</td>\n",
              "      <td>...</td>\n",
              "      <td>...</td>\n",
              "    </tr>\n",
              "    <tr>\n",
              "      <th>545</th>\n",
              "      <td>546</td>\n",
              "      <td>Produk_546</td>\n",
              "      <td>Laptop</td>\n",
              "      <td>496.0</td>\n",
              "      <td>3.9</td>\n",
              "      <td>19.0</td>\n",
              "      <td>China</td>\n",
              "    </tr>\n",
              "    <tr>\n",
              "      <th>546</th>\n",
              "      <td>547</td>\n",
              "      <td>Produk_547</td>\n",
              "      <td>Headphone</td>\n",
              "      <td>628.0</td>\n",
              "      <td>4.7</td>\n",
              "      <td>414.0</td>\n",
              "      <td>USA</td>\n",
              "    </tr>\n",
              "    <tr>\n",
              "      <th>547</th>\n",
              "      <td>548</td>\n",
              "      <td>Produk_548</td>\n",
              "      <td>Tablet</td>\n",
              "      <td>465.0</td>\n",
              "      <td>4.3</td>\n",
              "      <td>393.0</td>\n",
              "      <td>India</td>\n",
              "    </tr>\n",
              "    <tr>\n",
              "      <th>548</th>\n",
              "      <td>549</td>\n",
              "      <td>Produk_549</td>\n",
              "      <td>Laptop</td>\n",
              "      <td>495.0</td>\n",
              "      <td>3.1</td>\n",
              "      <td>311.0</td>\n",
              "      <td>Germany</td>\n",
              "    </tr>\n",
              "    <tr>\n",
              "      <th>549</th>\n",
              "      <td>550</td>\n",
              "      <td>Produk_550</td>\n",
              "      <td>Tablet</td>\n",
              "      <td>388.0</td>\n",
              "      <td>4.3</td>\n",
              "      <td>240.0</td>\n",
              "      <td>Germany</td>\n",
              "    </tr>\n",
              "  </tbody>\n",
              "</table>\n",
              "<p>550 rows × 7 columns</p>\n",
              "</div>\n",
              "    <div class=\"colab-df-buttons\">\n",
              "\n",
              "  <div class=\"colab-df-container\">\n",
              "    <button class=\"colab-df-convert\" onclick=\"convertToInteractive('df-74b9d5b5-1c8c-4784-b8a2-cb169e3e9aaf')\"\n",
              "            title=\"Convert this dataframe to an interactive table.\"\n",
              "            style=\"display:none;\">\n",
              "\n",
              "  <svg xmlns=\"http://www.w3.org/2000/svg\" height=\"24px\" viewBox=\"0 -960 960 960\">\n",
              "    <path d=\"M120-120v-720h720v720H120Zm60-500h600v-160H180v160Zm220 220h160v-160H400v160Zm0 220h160v-160H400v160ZM180-400h160v-160H180v160Zm440 0h160v-160H620v160ZM180-180h160v-160H180v160Zm440 0h160v-160H620v160Z\"/>\n",
              "  </svg>\n",
              "    </button>\n",
              "\n",
              "  <style>\n",
              "    .colab-df-container {\n",
              "      display:flex;\n",
              "      gap: 12px;\n",
              "    }\n",
              "\n",
              "    .colab-df-convert {\n",
              "      background-color: #E8F0FE;\n",
              "      border: none;\n",
              "      border-radius: 50%;\n",
              "      cursor: pointer;\n",
              "      display: none;\n",
              "      fill: #1967D2;\n",
              "      height: 32px;\n",
              "      padding: 0 0 0 0;\n",
              "      width: 32px;\n",
              "    }\n",
              "\n",
              "    .colab-df-convert:hover {\n",
              "      background-color: #E2EBFA;\n",
              "      box-shadow: 0px 1px 2px rgba(60, 64, 67, 0.3), 0px 1px 3px 1px rgba(60, 64, 67, 0.15);\n",
              "      fill: #174EA6;\n",
              "    }\n",
              "\n",
              "    .colab-df-buttons div {\n",
              "      margin-bottom: 4px;\n",
              "    }\n",
              "\n",
              "    [theme=dark] .colab-df-convert {\n",
              "      background-color: #3B4455;\n",
              "      fill: #D2E3FC;\n",
              "    }\n",
              "\n",
              "    [theme=dark] .colab-df-convert:hover {\n",
              "      background-color: #434B5C;\n",
              "      box-shadow: 0px 1px 3px 1px rgba(0, 0, 0, 0.15);\n",
              "      filter: drop-shadow(0px 1px 2px rgba(0, 0, 0, 0.3));\n",
              "      fill: #FFFFFF;\n",
              "    }\n",
              "  </style>\n",
              "\n",
              "    <script>\n",
              "      const buttonEl =\n",
              "        document.querySelector('#df-74b9d5b5-1c8c-4784-b8a2-cb169e3e9aaf button.colab-df-convert');\n",
              "      buttonEl.style.display =\n",
              "        google.colab.kernel.accessAllowed ? 'block' : 'none';\n",
              "\n",
              "      async function convertToInteractive(key) {\n",
              "        const element = document.querySelector('#df-74b9d5b5-1c8c-4784-b8a2-cb169e3e9aaf');\n",
              "        const dataTable =\n",
              "          await google.colab.kernel.invokeFunction('convertToInteractive',\n",
              "                                                    [key], {});\n",
              "        if (!dataTable) return;\n",
              "\n",
              "        const docLinkHtml = 'Like what you see? Visit the ' +\n",
              "          '<a target=\"_blank\" href=https://colab.research.google.com/notebooks/data_table.ipynb>data table notebook</a>'\n",
              "          + ' to learn more about interactive tables.';\n",
              "        element.innerHTML = '';\n",
              "        dataTable['output_type'] = 'display_data';\n",
              "        await google.colab.output.renderOutput(dataTable, element);\n",
              "        const docLink = document.createElement('div');\n",
              "        docLink.innerHTML = docLinkHtml;\n",
              "        element.appendChild(docLink);\n",
              "      }\n",
              "    </script>\n",
              "  </div>\n",
              "\n",
              "\n",
              "<div id=\"df-75578542-dee2-4dbc-95d0-056ef45809e4\">\n",
              "  <button class=\"colab-df-quickchart\" onclick=\"quickchart('df-75578542-dee2-4dbc-95d0-056ef45809e4')\"\n",
              "            title=\"Suggest charts\"\n",
              "            style=\"display:none;\">\n",
              "\n",
              "<svg xmlns=\"http://www.w3.org/2000/svg\" height=\"24px\"viewBox=\"0 0 24 24\"\n",
              "     width=\"24px\">\n",
              "    <g>\n",
              "        <path d=\"M19 3H5c-1.1 0-2 .9-2 2v14c0 1.1.9 2 2 2h14c1.1 0 2-.9 2-2V5c0-1.1-.9-2-2-2zM9 17H7v-7h2v7zm4 0h-2V7h2v10zm4 0h-2v-4h2v4z\"/>\n",
              "    </g>\n",
              "</svg>\n",
              "  </button>\n",
              "\n",
              "<style>\n",
              "  .colab-df-quickchart {\n",
              "      --bg-color: #E8F0FE;\n",
              "      --fill-color: #1967D2;\n",
              "      --hover-bg-color: #E2EBFA;\n",
              "      --hover-fill-color: #174EA6;\n",
              "      --disabled-fill-color: #AAA;\n",
              "      --disabled-bg-color: #DDD;\n",
              "  }\n",
              "\n",
              "  [theme=dark] .colab-df-quickchart {\n",
              "      --bg-color: #3B4455;\n",
              "      --fill-color: #D2E3FC;\n",
              "      --hover-bg-color: #434B5C;\n",
              "      --hover-fill-color: #FFFFFF;\n",
              "      --disabled-bg-color: #3B4455;\n",
              "      --disabled-fill-color: #666;\n",
              "  }\n",
              "\n",
              "  .colab-df-quickchart {\n",
              "    background-color: var(--bg-color);\n",
              "    border: none;\n",
              "    border-radius: 50%;\n",
              "    cursor: pointer;\n",
              "    display: none;\n",
              "    fill: var(--fill-color);\n",
              "    height: 32px;\n",
              "    padding: 0;\n",
              "    width: 32px;\n",
              "  }\n",
              "\n",
              "  .colab-df-quickchart:hover {\n",
              "    background-color: var(--hover-bg-color);\n",
              "    box-shadow: 0 1px 2px rgba(60, 64, 67, 0.3), 0 1px 3px 1px rgba(60, 64, 67, 0.15);\n",
              "    fill: var(--button-hover-fill-color);\n",
              "  }\n",
              "\n",
              "  .colab-df-quickchart-complete:disabled,\n",
              "  .colab-df-quickchart-complete:disabled:hover {\n",
              "    background-color: var(--disabled-bg-color);\n",
              "    fill: var(--disabled-fill-color);\n",
              "    box-shadow: none;\n",
              "  }\n",
              "\n",
              "  .colab-df-spinner {\n",
              "    border: 2px solid var(--fill-color);\n",
              "    border-color: transparent;\n",
              "    border-bottom-color: var(--fill-color);\n",
              "    animation:\n",
              "      spin 1s steps(1) infinite;\n",
              "  }\n",
              "\n",
              "  @keyframes spin {\n",
              "    0% {\n",
              "      border-color: transparent;\n",
              "      border-bottom-color: var(--fill-color);\n",
              "      border-left-color: var(--fill-color);\n",
              "    }\n",
              "    20% {\n",
              "      border-color: transparent;\n",
              "      border-left-color: var(--fill-color);\n",
              "      border-top-color: var(--fill-color);\n",
              "    }\n",
              "    30% {\n",
              "      border-color: transparent;\n",
              "      border-left-color: var(--fill-color);\n",
              "      border-top-color: var(--fill-color);\n",
              "      border-right-color: var(--fill-color);\n",
              "    }\n",
              "    40% {\n",
              "      border-color: transparent;\n",
              "      border-right-color: var(--fill-color);\n",
              "      border-top-color: var(--fill-color);\n",
              "    }\n",
              "    60% {\n",
              "      border-color: transparent;\n",
              "      border-right-color: var(--fill-color);\n",
              "    }\n",
              "    80% {\n",
              "      border-color: transparent;\n",
              "      border-right-color: var(--fill-color);\n",
              "      border-bottom-color: var(--fill-color);\n",
              "    }\n",
              "    90% {\n",
              "      border-color: transparent;\n",
              "      border-bottom-color: var(--fill-color);\n",
              "    }\n",
              "  }\n",
              "</style>\n",
              "\n",
              "  <script>\n",
              "    async function quickchart(key) {\n",
              "      const quickchartButtonEl =\n",
              "        document.querySelector('#' + key + ' button');\n",
              "      quickchartButtonEl.disabled = true;  // To prevent multiple clicks.\n",
              "      quickchartButtonEl.classList.add('colab-df-spinner');\n",
              "      try {\n",
              "        const charts = await google.colab.kernel.invokeFunction(\n",
              "            'suggestCharts', [key], {});\n",
              "      } catch (error) {\n",
              "        console.error('Error during call to suggestCharts:', error);\n",
              "      }\n",
              "      quickchartButtonEl.classList.remove('colab-df-spinner');\n",
              "      quickchartButtonEl.classList.add('colab-df-quickchart-complete');\n",
              "    }\n",
              "    (() => {\n",
              "      let quickchartButtonEl =\n",
              "        document.querySelector('#df-75578542-dee2-4dbc-95d0-056ef45809e4 button');\n",
              "      quickchartButtonEl.style.display =\n",
              "        google.colab.kernel.accessAllowed ? 'block' : 'none';\n",
              "    })();\n",
              "  </script>\n",
              "</div>\n",
              "\n",
              "  <div id=\"id_c87e4ddb-34c9-473f-8270-2d51db7bcca0\">\n",
              "    <style>\n",
              "      .colab-df-generate {\n",
              "        background-color: #E8F0FE;\n",
              "        border: none;\n",
              "        border-radius: 50%;\n",
              "        cursor: pointer;\n",
              "        display: none;\n",
              "        fill: #1967D2;\n",
              "        height: 32px;\n",
              "        padding: 0 0 0 0;\n",
              "        width: 32px;\n",
              "      }\n",
              "\n",
              "      .colab-df-generate:hover {\n",
              "        background-color: #E2EBFA;\n",
              "        box-shadow: 0px 1px 2px rgba(60, 64, 67, 0.3), 0px 1px 3px 1px rgba(60, 64, 67, 0.15);\n",
              "        fill: #174EA6;\n",
              "      }\n",
              "\n",
              "      [theme=dark] .colab-df-generate {\n",
              "        background-color: #3B4455;\n",
              "        fill: #D2E3FC;\n",
              "      }\n",
              "\n",
              "      [theme=dark] .colab-df-generate:hover {\n",
              "        background-color: #434B5C;\n",
              "        box-shadow: 0px 1px 3px 1px rgba(0, 0, 0, 0.15);\n",
              "        filter: drop-shadow(0px 1px 2px rgba(0, 0, 0, 0.3));\n",
              "        fill: #FFFFFF;\n",
              "      }\n",
              "    </style>\n",
              "    <button class=\"colab-df-generate\" onclick=\"generateWithVariable('data')\"\n",
              "            title=\"Generate code using this dataframe.\"\n",
              "            style=\"display:none;\">\n",
              "\n",
              "  <svg xmlns=\"http://www.w3.org/2000/svg\" height=\"24px\"viewBox=\"0 0 24 24\"\n",
              "       width=\"24px\">\n",
              "    <path d=\"M7,19H8.4L18.45,9,17,7.55,7,17.6ZM5,21V16.75L18.45,3.32a2,2,0,0,1,2.83,0l1.4,1.43a1.91,1.91,0,0,1,.58,1.4,1.91,1.91,0,0,1-.58,1.4L9.25,21ZM18.45,9,17,7.55Zm-12,3A5.31,5.31,0,0,0,4.9,8.1,5.31,5.31,0,0,0,1,6.5,5.31,5.31,0,0,0,4.9,4.9,5.31,5.31,0,0,0,6.5,1,5.31,5.31,0,0,0,8.1,4.9,5.31,5.31,0,0,0,12,6.5,5.46,5.46,0,0,0,6.5,12Z\"/>\n",
              "  </svg>\n",
              "    </button>\n",
              "    <script>\n",
              "      (() => {\n",
              "      const buttonEl =\n",
              "        document.querySelector('#id_c87e4ddb-34c9-473f-8270-2d51db7bcca0 button.colab-df-generate');\n",
              "      buttonEl.style.display =\n",
              "        google.colab.kernel.accessAllowed ? 'block' : 'none';\n",
              "\n",
              "      buttonEl.onclick = () => {\n",
              "        google.colab.notebook.generateWithVariable('data');\n",
              "      }\n",
              "      })();\n",
              "    </script>\n",
              "  </div>\n",
              "\n",
              "    </div>\n",
              "  </div>\n"
            ],
            "application/vnd.google.colaboratory.intrinsic+json": {
              "type": "dataframe",
              "variable_name": "data",
              "summary": "{\n  \"name\": \"data\",\n  \"rows\": 550,\n  \"fields\": [\n    {\n      \"column\": \"produk_id\",\n      \"properties\": {\n        \"dtype\": \"number\",\n        \"std\": 158,\n        \"min\": 1,\n        \"max\": 550,\n        \"num_unique_values\": 550,\n        \"samples\": [\n          196,\n          80,\n          481\n        ],\n        \"semantic_type\": \"\",\n        \"description\": \"\"\n      }\n    },\n    {\n      \"column\": \"nama_produk\",\n      \"properties\": {\n        \"dtype\": \"string\",\n        \"num_unique_values\": 550,\n        \"samples\": [\n          \"Produk_196\",\n          \"Produk_80\",\n          \"Produk_481\"\n        ],\n        \"semantic_type\": \"\",\n        \"description\": \"\"\n      }\n    },\n    {\n      \"column\": \"kategori\",\n      \"properties\": {\n        \"dtype\": \"category\",\n        \"num_unique_values\": 6,\n        \"samples\": [\n          \"Smartwatch\",\n          \"Headphone\",\n          \"Smartphone\"\n        ],\n        \"semantic_type\": \"\",\n        \"description\": \"\"\n      }\n    },\n    {\n      \"column\": \"harga\",\n      \"properties\": {\n        \"dtype\": \"number\",\n        \"std\": 625.8867249279893,\n        \"min\": -213.0,\n        \"max\": 8341.0,\n        \"num_unique_values\": 394,\n        \"samples\": [\n          388.0,\n          492.0,\n          418.0\n        ],\n        \"semantic_type\": \"\",\n        \"description\": \"\"\n      }\n    },\n    {\n      \"column\": \"rating\",\n      \"properties\": {\n        \"dtype\": \"number\",\n        \"std\": 0.5710523983693329,\n        \"min\": 3.0,\n        \"max\": 5.0,\n        \"num_unique_values\": 21,\n        \"samples\": [\n          4.2,\n          4.3,\n          5.0\n        ],\n        \"semantic_type\": \"\",\n        \"description\": \"\"\n      }\n    },\n    {\n      \"column\": \"jumlah_ulasan\",\n      \"properties\": {\n        \"dtype\": \"number\",\n        \"std\": 142.65537992151366,\n        \"min\": 12.0,\n        \"max\": 499.0,\n        \"num_unique_values\": 327,\n        \"samples\": [\n          212.0,\n          172.0,\n          375.0\n        ],\n        \"semantic_type\": \"\",\n        \"description\": \"\"\n      }\n    },\n    {\n      \"column\": \"negara_asal\",\n      \"properties\": {\n        \"dtype\": \"category\",\n        \"num_unique_values\": 9,\n        \"samples\": [\n          \"India\",\n          \"Canada\",\n          \"Germany\"\n        ],\n        \"semantic_type\": \"\",\n        \"description\": \"\"\n      }\n    }\n  ]\n}"
            }
          },
          "metadata": {},
          "execution_count": 3
        }
      ]
    },
    {
      "cell_type": "code",
      "source": [
        "data.info()"
      ],
      "metadata": {
        "colab": {
          "base_uri": "https://localhost:8080/"
        },
        "id": "BSBKItj5_OIG",
        "outputId": "3d40636b-9e0c-4436-8274-25df2d9df277"
      },
      "execution_count": 4,
      "outputs": [
        {
          "output_type": "stream",
          "name": "stdout",
          "text": [
            "<class 'pandas.core.frame.DataFrame'>\n",
            "RangeIndex: 550 entries, 0 to 549\n",
            "Data columns (total 7 columns):\n",
            " #   Column         Non-Null Count  Dtype  \n",
            "---  ------         --------------  -----  \n",
            " 0   produk_id      550 non-null    int64  \n",
            " 1   nama_produk    550 non-null    object \n",
            " 2   kategori       550 non-null    object \n",
            " 3   harga          520 non-null    float64\n",
            " 4   rating         500 non-null    float64\n",
            " 5   jumlah_ulasan  530 non-null    float64\n",
            " 6   negara_asal    550 non-null    object \n",
            "dtypes: float64(3), int64(1), object(3)\n",
            "memory usage: 30.2+ KB\n"
          ]
        }
      ]
    },
    {
      "cell_type": "code",
      "source": [
        "data.isnull()"
      ],
      "metadata": {
        "colab": {
          "base_uri": "https://localhost:8080/",
          "height": 423
        },
        "id": "ORRBdA_r_Slb",
        "outputId": "6a831121-8f4f-4edc-9738-556f310b538c"
      },
      "execution_count": 5,
      "outputs": [
        {
          "output_type": "execute_result",
          "data": {
            "text/plain": [
              "     produk_id  nama_produk  kategori  harga  rating  jumlah_ulasan  \\\n",
              "0        False        False     False  False   False          False   \n",
              "1        False        False     False  False   False          False   \n",
              "2        False        False     False  False   False          False   \n",
              "3        False        False     False  False   False          False   \n",
              "4        False        False     False  False   False          False   \n",
              "..         ...          ...       ...    ...     ...            ...   \n",
              "545      False        False     False  False   False          False   \n",
              "546      False        False     False  False   False          False   \n",
              "547      False        False     False  False   False          False   \n",
              "548      False        False     False  False   False          False   \n",
              "549      False        False     False  False   False          False   \n",
              "\n",
              "     negara_asal  \n",
              "0          False  \n",
              "1          False  \n",
              "2          False  \n",
              "3          False  \n",
              "4          False  \n",
              "..           ...  \n",
              "545        False  \n",
              "546        False  \n",
              "547        False  \n",
              "548        False  \n",
              "549        False  \n",
              "\n",
              "[550 rows x 7 columns]"
            ],
            "text/html": [
              "\n",
              "  <div id=\"df-7e2b30da-3d63-4f23-9e57-c68cde9ba82c\" class=\"colab-df-container\">\n",
              "    <div>\n",
              "<style scoped>\n",
              "    .dataframe tbody tr th:only-of-type {\n",
              "        vertical-align: middle;\n",
              "    }\n",
              "\n",
              "    .dataframe tbody tr th {\n",
              "        vertical-align: top;\n",
              "    }\n",
              "\n",
              "    .dataframe thead th {\n",
              "        text-align: right;\n",
              "    }\n",
              "</style>\n",
              "<table border=\"1\" class=\"dataframe\">\n",
              "  <thead>\n",
              "    <tr style=\"text-align: right;\">\n",
              "      <th></th>\n",
              "      <th>produk_id</th>\n",
              "      <th>nama_produk</th>\n",
              "      <th>kategori</th>\n",
              "      <th>harga</th>\n",
              "      <th>rating</th>\n",
              "      <th>jumlah_ulasan</th>\n",
              "      <th>negara_asal</th>\n",
              "    </tr>\n",
              "  </thead>\n",
              "  <tbody>\n",
              "    <tr>\n",
              "      <th>0</th>\n",
              "      <td>False</td>\n",
              "      <td>False</td>\n",
              "      <td>False</td>\n",
              "      <td>False</td>\n",
              "      <td>False</td>\n",
              "      <td>False</td>\n",
              "      <td>False</td>\n",
              "    </tr>\n",
              "    <tr>\n",
              "      <th>1</th>\n",
              "      <td>False</td>\n",
              "      <td>False</td>\n",
              "      <td>False</td>\n",
              "      <td>False</td>\n",
              "      <td>False</td>\n",
              "      <td>False</td>\n",
              "      <td>False</td>\n",
              "    </tr>\n",
              "    <tr>\n",
              "      <th>2</th>\n",
              "      <td>False</td>\n",
              "      <td>False</td>\n",
              "      <td>False</td>\n",
              "      <td>False</td>\n",
              "      <td>False</td>\n",
              "      <td>False</td>\n",
              "      <td>False</td>\n",
              "    </tr>\n",
              "    <tr>\n",
              "      <th>3</th>\n",
              "      <td>False</td>\n",
              "      <td>False</td>\n",
              "      <td>False</td>\n",
              "      <td>False</td>\n",
              "      <td>False</td>\n",
              "      <td>False</td>\n",
              "      <td>False</td>\n",
              "    </tr>\n",
              "    <tr>\n",
              "      <th>4</th>\n",
              "      <td>False</td>\n",
              "      <td>False</td>\n",
              "      <td>False</td>\n",
              "      <td>False</td>\n",
              "      <td>False</td>\n",
              "      <td>False</td>\n",
              "      <td>False</td>\n",
              "    </tr>\n",
              "    <tr>\n",
              "      <th>...</th>\n",
              "      <td>...</td>\n",
              "      <td>...</td>\n",
              "      <td>...</td>\n",
              "      <td>...</td>\n",
              "      <td>...</td>\n",
              "      <td>...</td>\n",
              "      <td>...</td>\n",
              "    </tr>\n",
              "    <tr>\n",
              "      <th>545</th>\n",
              "      <td>False</td>\n",
              "      <td>False</td>\n",
              "      <td>False</td>\n",
              "      <td>False</td>\n",
              "      <td>False</td>\n",
              "      <td>False</td>\n",
              "      <td>False</td>\n",
              "    </tr>\n",
              "    <tr>\n",
              "      <th>546</th>\n",
              "      <td>False</td>\n",
              "      <td>False</td>\n",
              "      <td>False</td>\n",
              "      <td>False</td>\n",
              "      <td>False</td>\n",
              "      <td>False</td>\n",
              "      <td>False</td>\n",
              "    </tr>\n",
              "    <tr>\n",
              "      <th>547</th>\n",
              "      <td>False</td>\n",
              "      <td>False</td>\n",
              "      <td>False</td>\n",
              "      <td>False</td>\n",
              "      <td>False</td>\n",
              "      <td>False</td>\n",
              "      <td>False</td>\n",
              "    </tr>\n",
              "    <tr>\n",
              "      <th>548</th>\n",
              "      <td>False</td>\n",
              "      <td>False</td>\n",
              "      <td>False</td>\n",
              "      <td>False</td>\n",
              "      <td>False</td>\n",
              "      <td>False</td>\n",
              "      <td>False</td>\n",
              "    </tr>\n",
              "    <tr>\n",
              "      <th>549</th>\n",
              "      <td>False</td>\n",
              "      <td>False</td>\n",
              "      <td>False</td>\n",
              "      <td>False</td>\n",
              "      <td>False</td>\n",
              "      <td>False</td>\n",
              "      <td>False</td>\n",
              "    </tr>\n",
              "  </tbody>\n",
              "</table>\n",
              "<p>550 rows × 7 columns</p>\n",
              "</div>\n",
              "    <div class=\"colab-df-buttons\">\n",
              "\n",
              "  <div class=\"colab-df-container\">\n",
              "    <button class=\"colab-df-convert\" onclick=\"convertToInteractive('df-7e2b30da-3d63-4f23-9e57-c68cde9ba82c')\"\n",
              "            title=\"Convert this dataframe to an interactive table.\"\n",
              "            style=\"display:none;\">\n",
              "\n",
              "  <svg xmlns=\"http://www.w3.org/2000/svg\" height=\"24px\" viewBox=\"0 -960 960 960\">\n",
              "    <path d=\"M120-120v-720h720v720H120Zm60-500h600v-160H180v160Zm220 220h160v-160H400v160Zm0 220h160v-160H400v160ZM180-400h160v-160H180v160Zm440 0h160v-160H620v160ZM180-180h160v-160H180v160Zm440 0h160v-160H620v160Z\"/>\n",
              "  </svg>\n",
              "    </button>\n",
              "\n",
              "  <style>\n",
              "    .colab-df-container {\n",
              "      display:flex;\n",
              "      gap: 12px;\n",
              "    }\n",
              "\n",
              "    .colab-df-convert {\n",
              "      background-color: #E8F0FE;\n",
              "      border: none;\n",
              "      border-radius: 50%;\n",
              "      cursor: pointer;\n",
              "      display: none;\n",
              "      fill: #1967D2;\n",
              "      height: 32px;\n",
              "      padding: 0 0 0 0;\n",
              "      width: 32px;\n",
              "    }\n",
              "\n",
              "    .colab-df-convert:hover {\n",
              "      background-color: #E2EBFA;\n",
              "      box-shadow: 0px 1px 2px rgba(60, 64, 67, 0.3), 0px 1px 3px 1px rgba(60, 64, 67, 0.15);\n",
              "      fill: #174EA6;\n",
              "    }\n",
              "\n",
              "    .colab-df-buttons div {\n",
              "      margin-bottom: 4px;\n",
              "    }\n",
              "\n",
              "    [theme=dark] .colab-df-convert {\n",
              "      background-color: #3B4455;\n",
              "      fill: #D2E3FC;\n",
              "    }\n",
              "\n",
              "    [theme=dark] .colab-df-convert:hover {\n",
              "      background-color: #434B5C;\n",
              "      box-shadow: 0px 1px 3px 1px rgba(0, 0, 0, 0.15);\n",
              "      filter: drop-shadow(0px 1px 2px rgba(0, 0, 0, 0.3));\n",
              "      fill: #FFFFFF;\n",
              "    }\n",
              "  </style>\n",
              "\n",
              "    <script>\n",
              "      const buttonEl =\n",
              "        document.querySelector('#df-7e2b30da-3d63-4f23-9e57-c68cde9ba82c button.colab-df-convert');\n",
              "      buttonEl.style.display =\n",
              "        google.colab.kernel.accessAllowed ? 'block' : 'none';\n",
              "\n",
              "      async function convertToInteractive(key) {\n",
              "        const element = document.querySelector('#df-7e2b30da-3d63-4f23-9e57-c68cde9ba82c');\n",
              "        const dataTable =\n",
              "          await google.colab.kernel.invokeFunction('convertToInteractive',\n",
              "                                                    [key], {});\n",
              "        if (!dataTable) return;\n",
              "\n",
              "        const docLinkHtml = 'Like what you see? Visit the ' +\n",
              "          '<a target=\"_blank\" href=https://colab.research.google.com/notebooks/data_table.ipynb>data table notebook</a>'\n",
              "          + ' to learn more about interactive tables.';\n",
              "        element.innerHTML = '';\n",
              "        dataTable['output_type'] = 'display_data';\n",
              "        await google.colab.output.renderOutput(dataTable, element);\n",
              "        const docLink = document.createElement('div');\n",
              "        docLink.innerHTML = docLinkHtml;\n",
              "        element.appendChild(docLink);\n",
              "      }\n",
              "    </script>\n",
              "  </div>\n",
              "\n",
              "\n",
              "<div id=\"df-fabbd27b-6b48-49eb-8e79-4539fd0b4ab0\">\n",
              "  <button class=\"colab-df-quickchart\" onclick=\"quickchart('df-fabbd27b-6b48-49eb-8e79-4539fd0b4ab0')\"\n",
              "            title=\"Suggest charts\"\n",
              "            style=\"display:none;\">\n",
              "\n",
              "<svg xmlns=\"http://www.w3.org/2000/svg\" height=\"24px\"viewBox=\"0 0 24 24\"\n",
              "     width=\"24px\">\n",
              "    <g>\n",
              "        <path d=\"M19 3H5c-1.1 0-2 .9-2 2v14c0 1.1.9 2 2 2h14c1.1 0 2-.9 2-2V5c0-1.1-.9-2-2-2zM9 17H7v-7h2v7zm4 0h-2V7h2v10zm4 0h-2v-4h2v4z\"/>\n",
              "    </g>\n",
              "</svg>\n",
              "  </button>\n",
              "\n",
              "<style>\n",
              "  .colab-df-quickchart {\n",
              "      --bg-color: #E8F0FE;\n",
              "      --fill-color: #1967D2;\n",
              "      --hover-bg-color: #E2EBFA;\n",
              "      --hover-fill-color: #174EA6;\n",
              "      --disabled-fill-color: #AAA;\n",
              "      --disabled-bg-color: #DDD;\n",
              "  }\n",
              "\n",
              "  [theme=dark] .colab-df-quickchart {\n",
              "      --bg-color: #3B4455;\n",
              "      --fill-color: #D2E3FC;\n",
              "      --hover-bg-color: #434B5C;\n",
              "      --hover-fill-color: #FFFFFF;\n",
              "      --disabled-bg-color: #3B4455;\n",
              "      --disabled-fill-color: #666;\n",
              "  }\n",
              "\n",
              "  .colab-df-quickchart {\n",
              "    background-color: var(--bg-color);\n",
              "    border: none;\n",
              "    border-radius: 50%;\n",
              "    cursor: pointer;\n",
              "    display: none;\n",
              "    fill: var(--fill-color);\n",
              "    height: 32px;\n",
              "    padding: 0;\n",
              "    width: 32px;\n",
              "  }\n",
              "\n",
              "  .colab-df-quickchart:hover {\n",
              "    background-color: var(--hover-bg-color);\n",
              "    box-shadow: 0 1px 2px rgba(60, 64, 67, 0.3), 0 1px 3px 1px rgba(60, 64, 67, 0.15);\n",
              "    fill: var(--button-hover-fill-color);\n",
              "  }\n",
              "\n",
              "  .colab-df-quickchart-complete:disabled,\n",
              "  .colab-df-quickchart-complete:disabled:hover {\n",
              "    background-color: var(--disabled-bg-color);\n",
              "    fill: var(--disabled-fill-color);\n",
              "    box-shadow: none;\n",
              "  }\n",
              "\n",
              "  .colab-df-spinner {\n",
              "    border: 2px solid var(--fill-color);\n",
              "    border-color: transparent;\n",
              "    border-bottom-color: var(--fill-color);\n",
              "    animation:\n",
              "      spin 1s steps(1) infinite;\n",
              "  }\n",
              "\n",
              "  @keyframes spin {\n",
              "    0% {\n",
              "      border-color: transparent;\n",
              "      border-bottom-color: var(--fill-color);\n",
              "      border-left-color: var(--fill-color);\n",
              "    }\n",
              "    20% {\n",
              "      border-color: transparent;\n",
              "      border-left-color: var(--fill-color);\n",
              "      border-top-color: var(--fill-color);\n",
              "    }\n",
              "    30% {\n",
              "      border-color: transparent;\n",
              "      border-left-color: var(--fill-color);\n",
              "      border-top-color: var(--fill-color);\n",
              "      border-right-color: var(--fill-color);\n",
              "    }\n",
              "    40% {\n",
              "      border-color: transparent;\n",
              "      border-right-color: var(--fill-color);\n",
              "      border-top-color: var(--fill-color);\n",
              "    }\n",
              "    60% {\n",
              "      border-color: transparent;\n",
              "      border-right-color: var(--fill-color);\n",
              "    }\n",
              "    80% {\n",
              "      border-color: transparent;\n",
              "      border-right-color: var(--fill-color);\n",
              "      border-bottom-color: var(--fill-color);\n",
              "    }\n",
              "    90% {\n",
              "      border-color: transparent;\n",
              "      border-bottom-color: var(--fill-color);\n",
              "    }\n",
              "  }\n",
              "</style>\n",
              "\n",
              "  <script>\n",
              "    async function quickchart(key) {\n",
              "      const quickchartButtonEl =\n",
              "        document.querySelector('#' + key + ' button');\n",
              "      quickchartButtonEl.disabled = true;  // To prevent multiple clicks.\n",
              "      quickchartButtonEl.classList.add('colab-df-spinner');\n",
              "      try {\n",
              "        const charts = await google.colab.kernel.invokeFunction(\n",
              "            'suggestCharts', [key], {});\n",
              "      } catch (error) {\n",
              "        console.error('Error during call to suggestCharts:', error);\n",
              "      }\n",
              "      quickchartButtonEl.classList.remove('colab-df-spinner');\n",
              "      quickchartButtonEl.classList.add('colab-df-quickchart-complete');\n",
              "    }\n",
              "    (() => {\n",
              "      let quickchartButtonEl =\n",
              "        document.querySelector('#df-fabbd27b-6b48-49eb-8e79-4539fd0b4ab0 button');\n",
              "      quickchartButtonEl.style.display =\n",
              "        google.colab.kernel.accessAllowed ? 'block' : 'none';\n",
              "    })();\n",
              "  </script>\n",
              "</div>\n",
              "\n",
              "    </div>\n",
              "  </div>\n"
            ],
            "application/vnd.google.colaboratory.intrinsic+json": {
              "type": "dataframe",
              "summary": "{\n  \"name\": \"data\",\n  \"rows\": 550,\n  \"fields\": [\n    {\n      \"column\": \"produk_id\",\n      \"properties\": {\n        \"dtype\": \"boolean\",\n        \"num_unique_values\": 1,\n        \"samples\": [\n          false\n        ],\n        \"semantic_type\": \"\",\n        \"description\": \"\"\n      }\n    },\n    {\n      \"column\": \"nama_produk\",\n      \"properties\": {\n        \"dtype\": \"boolean\",\n        \"num_unique_values\": 1,\n        \"samples\": [\n          false\n        ],\n        \"semantic_type\": \"\",\n        \"description\": \"\"\n      }\n    },\n    {\n      \"column\": \"kategori\",\n      \"properties\": {\n        \"dtype\": \"boolean\",\n        \"num_unique_values\": 1,\n        \"samples\": [\n          false\n        ],\n        \"semantic_type\": \"\",\n        \"description\": \"\"\n      }\n    },\n    {\n      \"column\": \"harga\",\n      \"properties\": {\n        \"dtype\": \"boolean\",\n        \"num_unique_values\": 2,\n        \"samples\": [\n          true\n        ],\n        \"semantic_type\": \"\",\n        \"description\": \"\"\n      }\n    },\n    {\n      \"column\": \"rating\",\n      \"properties\": {\n        \"dtype\": \"boolean\",\n        \"num_unique_values\": 2,\n        \"samples\": [\n          true\n        ],\n        \"semantic_type\": \"\",\n        \"description\": \"\"\n      }\n    },\n    {\n      \"column\": \"jumlah_ulasan\",\n      \"properties\": {\n        \"dtype\": \"boolean\",\n        \"num_unique_values\": 2,\n        \"samples\": [\n          true\n        ],\n        \"semantic_type\": \"\",\n        \"description\": \"\"\n      }\n    },\n    {\n      \"column\": \"negara_asal\",\n      \"properties\": {\n        \"dtype\": \"boolean\",\n        \"num_unique_values\": 1,\n        \"samples\": [\n          false\n        ],\n        \"semantic_type\": \"\",\n        \"description\": \"\"\n      }\n    }\n  ]\n}"
            }
          },
          "metadata": {},
          "execution_count": 5
        }
      ]
    },
    {
      "cell_type": "markdown",
      "source": [
        "## **2. a) Cek missing velues pada dataset. Berapa jumlah missing values disetiap kolom?**"
      ],
      "metadata": {
        "id": "pEDZZ_N9_W3p"
      }
    },
    {
      "cell_type": "code",
      "source": [
        "np.sum(data.isnull())"
      ],
      "metadata": {
        "colab": {
          "base_uri": "https://localhost:8080/",
          "height": 360
        },
        "id": "LL-abH6Z_aeI",
        "outputId": "1eb2b3ef-312f-469e-c1f5-9d4cc56544b2"
      },
      "execution_count": 6,
      "outputs": [
        {
          "output_type": "stream",
          "name": "stderr",
          "text": [
            "/usr/local/lib/python3.11/dist-packages/numpy/core/fromnumeric.py:86: FutureWarning: The behavior of DataFrame.sum with axis=None is deprecated, in a future version this will reduce over both axes and return a scalar. To retain the old behavior, pass axis=0 (or do not pass axis)\n",
            "  return reduction(axis=axis, out=out, **passkwargs)\n"
          ]
        },
        {
          "output_type": "execute_result",
          "data": {
            "text/plain": [
              "produk_id         0\n",
              "nama_produk       0\n",
              "kategori          0\n",
              "harga            30\n",
              "rating           50\n",
              "jumlah_ulasan    20\n",
              "negara_asal       0\n",
              "dtype: int64"
            ],
            "text/html": [
              "<div>\n",
              "<style scoped>\n",
              "    .dataframe tbody tr th:only-of-type {\n",
              "        vertical-align: middle;\n",
              "    }\n",
              "\n",
              "    .dataframe tbody tr th {\n",
              "        vertical-align: top;\n",
              "    }\n",
              "\n",
              "    .dataframe thead th {\n",
              "        text-align: right;\n",
              "    }\n",
              "</style>\n",
              "<table border=\"1\" class=\"dataframe\">\n",
              "  <thead>\n",
              "    <tr style=\"text-align: right;\">\n",
              "      <th></th>\n",
              "      <th>0</th>\n",
              "    </tr>\n",
              "  </thead>\n",
              "  <tbody>\n",
              "    <tr>\n",
              "      <th>produk_id</th>\n",
              "      <td>0</td>\n",
              "    </tr>\n",
              "    <tr>\n",
              "      <th>nama_produk</th>\n",
              "      <td>0</td>\n",
              "    </tr>\n",
              "    <tr>\n",
              "      <th>kategori</th>\n",
              "      <td>0</td>\n",
              "    </tr>\n",
              "    <tr>\n",
              "      <th>harga</th>\n",
              "      <td>30</td>\n",
              "    </tr>\n",
              "    <tr>\n",
              "      <th>rating</th>\n",
              "      <td>50</td>\n",
              "    </tr>\n",
              "    <tr>\n",
              "      <th>jumlah_ulasan</th>\n",
              "      <td>20</td>\n",
              "    </tr>\n",
              "    <tr>\n",
              "      <th>negara_asal</th>\n",
              "      <td>0</td>\n",
              "    </tr>\n",
              "  </tbody>\n",
              "</table>\n",
              "</div><br><label><b>dtype:</b> int64</label>"
            ]
          },
          "metadata": {},
          "execution_count": 6
        }
      ]
    },
    {
      "cell_type": "code",
      "source": [
        "#jumlah missing value di seluruh dataset\n",
        "data.isnull().sum().sum()"
      ],
      "metadata": {
        "colab": {
          "base_uri": "https://localhost:8080/"
        },
        "id": "ymhjoHuJ_epq",
        "outputId": "f960bf4a-5f2e-48d5-a372-3e8e09a25ec5"
      },
      "execution_count": 7,
      "outputs": [
        {
          "output_type": "execute_result",
          "data": {
            "text/plain": [
              "100"
            ]
          },
          "metadata": {},
          "execution_count": 7
        }
      ]
    },
    {
      "cell_type": "markdown",
      "source": [
        "Dari hasil pengecekan np.sum(data.isnull()), ditemukan adanya missing values pada beberapa kolom dalam dataset, yaitu:\n",
        "\n",
        "harga: 30 missing values\n",
        "rating: 50 missing values\n",
        "jumlah_ulasan: 20 missing values\n",
        "\n",
        "Dengan jumlah missing value keseluruhan adalah 100."
      ],
      "metadata": {
        "id": "DPSp2w18_iVs"
      }
    },
    {
      "cell_type": "markdown",
      "source": [
        "## **2. b)  Jelaskan bagaimana keberadaan missing values dapat memengaruhi analisis data.**\n",
        "\n",
        "Keberadaan missing values dalam dataset dapat berdampak negatif terhadap analisis data dalam berbagai aspek, seperti:  \n",
        "\n",
        "1. **Penurunan Kualitas Analisis**  \n",
        "   Jika terlalu banyak data yang hilang dalam suatu kolom, informasi yang tersedia menjadi terbatas, sehingga analisis atau model yang digunakan mungkin kurang akurat.  \n",
        "\n",
        "2. **Gangguan pada Perhitungan Statistik**  \n",
        "   Banyak metode analisis data dan algoritma machine learning tidak dapat menangani missing values secara langsung. Misalnya, ketika menghitung rata-rata harga suatu produk, keberadaan data yang hilang dapat menyebabkan hasil yang bias atau kurang representatif.  \n",
        "\n",
        "3. **Potensi Bias dalam Model Prediksi**  \n",
        "   Jika data yang hilang tidak bersifat acak tetapi mengikuti pola tertentu (misalnya, hanya terjadi pada produk dari negara tertentu), model prediksi dapat menjadi bias dan menghasilkan kesimpulan yang keliru.  \n",
        "\n",
        "4. **Menurunnya Kinerja Model Machine Learning**  \n",
        "   Model pembelajaran mesin biasanya membutuhkan data yang lengkap untuk dapat mengenali pola dengan baik. Jika terdapat terlalu banyak missing values, model bisa gagal mempelajari hubungan antar variabel atau bahkan mengalami overfitting jika pengisian nilai yang hilang dilakukan dengan cara yang kurang tepat.  \n",
        "\n",
        "5. **Kesulitan dalam Visualisasi dan Interpretasi Data**  \n",
        "   Dalam pembuatan grafik atau visualisasi data, keberadaan missing values dapat menyebabkan hasil yang kurang akurat atau menyesatkan. Contohnya, jika banyak nilai harga yang hilang dalam histogram harga produk, distribusi yang dihasilkan mungkin tidak merepresentasikan kondisi sebenarnya."
      ],
      "metadata": {
        "id": "BjUOpvYR_rg9"
      }
    },
    {
      "cell_type": "markdown",
      "source": [
        "## **HANDLING MISSING VALUE**\n",
        "\n",
        "Dalam Machine Learning, keberadaan missing values merupakan permasalahan yang sering muncul dan perlu diselesaikan sebelum model dapat diterapkan. Cara mengatasi missing values bervariasi, tergantung pada jenis data serta karakteristik distribusinya.\n"
      ],
      "metadata": {
        "id": "EPZssiAp_vYV"
      }
    },
    {
      "cell_type": "markdown",
      "source": [
        "### 1) Harga"
      ],
      "metadata": {
        "id": "PvMEt-DP_x55"
      }
    },
    {
      "cell_type": "code",
      "source": [
        "#melihat isi dalam kolom harga\n",
        "data['harga'].unique()"
      ],
      "metadata": {
        "colab": {
          "base_uri": "https://localhost:8080/"
        },
        "id": "pGomuBAs_3oJ",
        "outputId": "4e033496-ed03-4f9f-ae71-d09343d33790"
      },
      "execution_count": 8,
      "outputs": [
        {
          "output_type": "execute_result",
          "data": {
            "text/plain": [
              "array([ 7.460e+02,  2.410e+02,  8.100e+02,  3.030e+02,  2.520e+02,\n",
              "        3.350e+02,  8.900e+02,  4.910e+02,  6.050e+02,  4.630e+02,\n",
              "        4.810e+02,  3.980e+02,  5.100e+02,  5.980e+02,  8.350e+02,\n",
              "        1.250e+02,  8.220e+02,  4.260e+02,  3.900e+02,  7.080e+02,\n",
              "        5.450e+02,        nan,  5.720e+02,  7.280e+02,  6.710e+02,\n",
              "        3.740e+02,  2.310e+02,  4.340e+02,  1.150e+03,  3.310e+02,\n",
              "        5.780e+02,  4.750e+02,  4.590e+02,  9.040e+02,  4.970e+02,\n",
              "        5.400e+02,  3.390e+02,  2.110e+02,  8.620e+02,  5.800e+02,\n",
              "        5.180e+02,  5.160e+02,  4.480e+02,  7.360e+02,  2.280e+02,\n",
              "        1.830e+02,  5.150e+02,  7.120e+02,  5.470e+02,  4.360e+02,\n",
              "        5.910e+02,  5.370e+02,  6.650e+02,  7.650e+02,  3.090e+02,\n",
              "        4.290e+02,  2.960e+02,  6.660e+02,  3.550e+02,  1.240e+02,\n",
              "        3.850e+02,  2.010e+02,  8.180e+02,  5.940e+02,  6.290e+02,\n",
              "        6.070e+02,  6.680e+02,  7.260e+02,  3.920e+02,  2.160e+02,\n",
              "        3.300e+02,  4.900e+02, -1.200e+01,  1.200e+02,  6.190e+02,\n",
              "        4.660e+02,  5.570e+02,  4.050e+02,  5.430e+02,  3.880e+02,\n",
              "        3.200e+02,  8.050e+02,  5.730e+02,  5.410e+02,  3.240e+02,\n",
              "        4.530e+02,  3.020e+02,  4.010e+02,  2.580e+02,  8.170e+02,\n",
              "        3.480e+02,  2.340e+02,  3.450e+02,  3.700e+02,  1.790e+02,\n",
              "        1.970e+02,  6.350e+02,  6.560e+02,  5.300e+02,  2.530e+02,\n",
              "        7.790e+02,  4.100e+02,  8.341e+03,  7.740e+02,  3.640e+02,\n",
              "        7.300e+02,  4.240e+02,  3.610e+02,  5.210e+02,  5.680e+02,\n",
              "        8.820e+02,  5.630e+02,  5.380e+02,  8.190e+02,  6.200e+02,\n",
              "        7.710e+02,  3.520e+02,  3.120e+02,  5.660e+02, -1.950e+02,\n",
              "        4.460e+02,  3.960e+02,  6.780e+02,  4.220e+02,  7.290e+02,\n",
              "        5.460e+02,  6.600e+02,  5.480e+02,  6.640e+02,  9.100e+02,\n",
              "        5.500e+02,  4.090e+02,  9.400e+01,  4.470e+02,  6.060e+02,\n",
              "        8.810e+02,  4.610e+02,  7.830e+02,  5.920e+02,  6.170e+02,\n",
              "        1.950e+02,  7.410e+02,  5.750e+02,  2.250e+02,  5.970e+02,\n",
              "        8.700e+01,  9.680e+02,  2.790e+02,  3.370e+02,  6.120e+02,\n",
              "        3.170e+02,  6.990e+02,  4.520e+02,  5.930e+02,  5.030e+02,\n",
              "        2.260e+02,  6.000e+02,  3.990e+02,  7.090e+02,  4.840e+02,\n",
              "        8.360e+02,  9.760e+02,  6.570e+02,  4.420e+02,  4.250e+02,\n",
              "        3.360e+02,  4.450e+02,  8.920e+02,  4.600e+02,  2.540e+02,\n",
              "        5.080e+02,  5.070e+02,  6.590e+02,  5.130e+02,  6.530e+02,\n",
              "        3.430e+02,  8.560e+02,  6.300e+02,  2.660e+02,  1.680e+02,\n",
              "        5.580e+02,  4.020e+02,  5.510e+02,  1.870e+02,  4.300e+02,\n",
              "        7.700e+01,  7.680e+02,  2.380e+02,  3.750e+02,  8.290e+02,\n",
              "        7.950e+02,  8.970e+02,  2.720e+02,  7.123e+03,  1.720e+02,\n",
              "        5.990e+02,  4.580e+02,  4.400e+01,  5.290e+02,  8.590e+02,\n",
              "        4.850e+02,  6.130e+02,  1.500e+02,  1.023e+03,  4.130e+02,\n",
              "        6.280e+02,  8.690e+02,  5.530e+02,  4.570e+02,  5.270e+02,\n",
              "        6.520e+02,  5.020e+02,  6.760e+02,  1.630e+02,  8.990e+02,\n",
              "        8.960e+02,  6.250e+02,  2.970e+02,  9.770e+02,  3.790e+02,\n",
              "        5.900e+02,  6.360e+02,  4.710e+02,  6.330e+02,  4.620e+02,\n",
              "        6.150e+02,  6.270e+02,  4.110e+02,  6.210e+02,  8.410e+02,\n",
              "        8.540e+02,  4.200e+02,  6.610e+02,  8.020e+02,  1.270e+02,\n",
              "        6.370e+02,  3.200e+01,  4.200e+01,  7.860e+02,  7.420e+02,\n",
              "        3.230e+02,  6.020e+02,  5.950e+02,  6.940e+02,  6.440e+02,\n",
              "        4.140e+02,  4.890e+02,  8.680e+02,  4.180e+02,  5.520e+02,\n",
              "        5.100e+01,  9.510e+02,  3.130e+02,  1.134e+03,  5.360e+02,\n",
              "       -1.400e+01,  7.660e+02,  6.430e+02,  8.130e+02,  2.640e+02,\n",
              "        3.630e+02,  1.640e+02,  3.780e+02,  5.420e+02,  6.730e+02,\n",
              "        7.600e+02,  4.000e+02,  5.830e+02,  2.800e+02,  6.230e+02,\n",
              "        3.730e+02,  3.160e+02,  5.490e+02,  7.100e+02,  4.500e+02,\n",
              "        4.860e+02,  4.920e+02,  5.840e+03,  2.610e+02,  5.550e+02,\n",
              "        3.560e+02,  6.810e+02,  3.650e+02,  3.680e+02,  5.890e+02,\n",
              "        9.550e+02,  1.740e+02,  7.250e+02,  3.840e+02,  3.250e+02,\n",
              "        1.770e+02,  7.690e+02,  2.130e+02,  7.930e+02,  5.600e+02,\n",
              "        7.330e+02,  7.070e+02,  2.990e+02,  9.850e+02,  8.890e+02,\n",
              "        3.870e+02, -2.130e+02,  4.280e+02,  3.860e+02,  4.550e+02,\n",
              "        3.340e+02,  6.840e+02,  5.120e+02,  6.900e+02,  7.440e+02,\n",
              "        6.500e+01,  1.014e+03,  6.620e+02,  1.230e+02,  5.280e+02,\n",
              "        6.950e+02,  6.720e+02,  5.598e+03,  1.610e+02,  3.190e+02,\n",
              "        7.730e+02,  6.910e+02,  6.490e+02,  7.010e+02,  4.800e+02,\n",
              "        4.040e+02,  7.030e+02,  7.500e+02,  5.330e+02,  3.040e+02,\n",
              "        4.960e+02,  4.870e+02,  8.400e+02,  5.170e+02,  3.410e+02,\n",
              "        8.240e+02,  2.910e+02,  5.590e+02,  6.240e+02,  5.250e+02,\n",
              "        4.990e+02, -1.500e+01,  5.620e+02,  4.150e+02,  6.420e+02,\n",
              "        2.330e+02,  4.560e+02,  4.350e+02,  4.160e+02,  7.900e+02,\n",
              "        5.740e+02,  4.760e+02,  4.540e+02,  5.860e+02,  6.080e+02,\n",
              "        5.260e+02,  6.030e+02,  5.224e+03,  2.760e+02,  1.560e+02,\n",
              "        5.560e+02,  4.430e+02,  2.900e+02,  7.600e+01,  1.430e+02,\n",
              "        8.200e+02,  3.400e+02,  4.380e+02,  6.320e+02,  7.020e+02,\n",
              "        3.260e+02,  7.560e+02,  6.670e+02,  7.050e+02,  4.230e+02,\n",
              "        5.200e+02,  3.930e+02,  1.090e+02,  4.440e+02,  5.710e+02,\n",
              "        3.820e+02,  4.690e+02, -4.200e+01,  7.590e+02,  6.800e+02,\n",
              "        9.700e+01, -5.000e+00,  7.880e+02,  1.190e+02,  5.350e+02,\n",
              "        7.770e+02, -2.900e+01,  6.450e+02,  4.650e+02,  4.950e+02])"
            ]
          },
          "metadata": {},
          "execution_count": 8
        }
      ]
    },
    {
      "cell_type": "code",
      "source": [
        "#jumlah missing value\n",
        "np.sum(data['harga'].isnull())"
      ],
      "metadata": {
        "colab": {
          "base_uri": "https://localhost:8080/"
        },
        "id": "LtxDR4tP_-YM",
        "outputId": "0a8469f6-1fab-479d-a384-acf67fb7e904"
      },
      "execution_count": 9,
      "outputs": [
        {
          "output_type": "execute_result",
          "data": {
            "text/plain": [
              "30"
            ]
          },
          "metadata": {},
          "execution_count": 9
        }
      ]
    },
    {
      "cell_type": "markdown",
      "source": [
        "Berdasarkan output di atas, terdapat beberapa kolom yang memiliki Missing Values dengan nilai 'nan'. Oleh karena itu, kita perlu membuat asumsi yang masuk akal berdasarkan jenis data yang tersedia.\n",
        "\n",
        "**Asumsi untuk Kolom \"Harga\"**\n",
        "\n",
        "Pendekatan yang paling masuk akal adalah menggunakan median harga untuk mengisi missing values.\n",
        "Median adalah pilihan terbaik untuk mengisi missing values pada kolom harga karena tidak terpengaruh oleh outlier, sehingga tetap stabil meskipun ada nilai yang sangat tinggi atau rendah. Selain itu, median lebih mewakili nilai tengah, terutama jika distribusi harga tidak normal atau cenderung skewed. Metode ini juga mudah diterapkan karena dapat langsung dihitung dan digunakan tanpa memerlukan model prediksi yang kompleks."
      ],
      "metadata": {
        "id": "hXE0ONabA0ja"
      }
    },
    {
      "cell_type": "code",
      "source": [
        "#mengisi missing value\n",
        "data['harga'].fillna(data['harga'].median(), inplace=True)\n"
      ],
      "metadata": {
        "colab": {
          "base_uri": "https://localhost:8080/"
        },
        "id": "2NXBQSjEDJtT",
        "outputId": "0ed51373-b7bf-4049-dc89-73aa3e00e63a"
      },
      "execution_count": 10,
      "outputs": [
        {
          "output_type": "stream",
          "name": "stderr",
          "text": [
            "<ipython-input-10-0b03d55e43b5>:2: FutureWarning: A value is trying to be set on a copy of a DataFrame or Series through chained assignment using an inplace method.\n",
            "The behavior will change in pandas 3.0. This inplace method will never work because the intermediate object on which we are setting values always behaves as a copy.\n",
            "\n",
            "For example, when doing 'df[col].method(value, inplace=True)', try using 'df.method({col: value}, inplace=True)' or df[col] = df[col].method(value) instead, to perform the operation inplace on the original object.\n",
            "\n",
            "\n",
            "  data['harga'].fillna(data['harga'].median(), inplace=True)\n"
          ]
        }
      ]
    },
    {
      "cell_type": "code",
      "source": [
        "#jumlah missing value\n",
        "np.sum(data['harga'].isnull())"
      ],
      "metadata": {
        "colab": {
          "base_uri": "https://localhost:8080/"
        },
        "id": "qYpp_aOPDSm3",
        "outputId": "4d4d16c2-0479-4263-b8ab-959131330ea7"
      },
      "execution_count": 11,
      "outputs": [
        {
          "output_type": "execute_result",
          "data": {
            "text/plain": [
              "0"
            ]
          },
          "metadata": {},
          "execution_count": 11
        }
      ]
    },
    {
      "cell_type": "code",
      "source": [
        "#melihat isi kolom\n",
        "data['harga'].unique()"
      ],
      "metadata": {
        "colab": {
          "base_uri": "https://localhost:8080/"
        },
        "id": "YqFc_uzDDX_0",
        "outputId": "891e3392-885d-4fde-9c6c-8f26f249fbc8"
      },
      "execution_count": 12,
      "outputs": [
        {
          "output_type": "execute_result",
          "data": {
            "text/plain": [
              "array([ 7.460e+02,  2.410e+02,  8.100e+02,  3.030e+02,  2.520e+02,\n",
              "        3.350e+02,  8.900e+02,  4.910e+02,  6.050e+02,  4.630e+02,\n",
              "        4.810e+02,  3.980e+02,  5.100e+02,  5.980e+02,  8.350e+02,\n",
              "        1.250e+02,  8.220e+02,  4.260e+02,  3.900e+02,  7.080e+02,\n",
              "        5.450e+02,  5.160e+02,  5.720e+02,  7.280e+02,  6.710e+02,\n",
              "        3.740e+02,  2.310e+02,  4.340e+02,  1.150e+03,  3.310e+02,\n",
              "        5.780e+02,  4.750e+02,  4.590e+02,  9.040e+02,  4.970e+02,\n",
              "        5.400e+02,  3.390e+02,  2.110e+02,  8.620e+02,  5.800e+02,\n",
              "        5.180e+02,  4.480e+02,  7.360e+02,  2.280e+02,  1.830e+02,\n",
              "        5.150e+02,  7.120e+02,  5.470e+02,  4.360e+02,  5.910e+02,\n",
              "        5.370e+02,  6.650e+02,  7.650e+02,  3.090e+02,  4.290e+02,\n",
              "        2.960e+02,  6.660e+02,  3.550e+02,  1.240e+02,  3.850e+02,\n",
              "        2.010e+02,  8.180e+02,  5.940e+02,  6.290e+02,  6.070e+02,\n",
              "        6.680e+02,  7.260e+02,  3.920e+02,  2.160e+02,  3.300e+02,\n",
              "        4.900e+02, -1.200e+01,  1.200e+02,  6.190e+02,  4.660e+02,\n",
              "        5.570e+02,  4.050e+02,  5.430e+02,  3.880e+02,  3.200e+02,\n",
              "        8.050e+02,  5.730e+02,  5.410e+02,  3.240e+02,  4.530e+02,\n",
              "        3.020e+02,  4.010e+02,  2.580e+02,  8.170e+02,  3.480e+02,\n",
              "        2.340e+02,  3.450e+02,  3.700e+02,  1.790e+02,  1.970e+02,\n",
              "        6.350e+02,  6.560e+02,  5.300e+02,  2.530e+02,  7.790e+02,\n",
              "        4.100e+02,  8.341e+03,  7.740e+02,  3.640e+02,  7.300e+02,\n",
              "        4.240e+02,  3.610e+02,  5.210e+02,  5.680e+02,  8.820e+02,\n",
              "        5.630e+02,  5.380e+02,  8.190e+02,  6.200e+02,  7.710e+02,\n",
              "        3.520e+02,  3.120e+02,  5.660e+02, -1.950e+02,  4.460e+02,\n",
              "        3.960e+02,  6.780e+02,  4.220e+02,  7.290e+02,  5.460e+02,\n",
              "        6.600e+02,  5.480e+02,  6.640e+02,  9.100e+02,  5.500e+02,\n",
              "        4.090e+02,  9.400e+01,  4.470e+02,  6.060e+02,  8.810e+02,\n",
              "        4.610e+02,  7.830e+02,  5.920e+02,  6.170e+02,  1.950e+02,\n",
              "        7.410e+02,  5.750e+02,  2.250e+02,  5.970e+02,  8.700e+01,\n",
              "        9.680e+02,  2.790e+02,  3.370e+02,  6.120e+02,  3.170e+02,\n",
              "        6.990e+02,  4.520e+02,  5.930e+02,  5.030e+02,  2.260e+02,\n",
              "        6.000e+02,  3.990e+02,  7.090e+02,  4.840e+02,  8.360e+02,\n",
              "        9.760e+02,  6.570e+02,  4.420e+02,  4.250e+02,  3.360e+02,\n",
              "        4.450e+02,  8.920e+02,  4.600e+02,  2.540e+02,  5.080e+02,\n",
              "        5.070e+02,  6.590e+02,  5.130e+02,  6.530e+02,  3.430e+02,\n",
              "        8.560e+02,  6.300e+02,  2.660e+02,  1.680e+02,  5.580e+02,\n",
              "        4.020e+02,  5.510e+02,  1.870e+02,  4.300e+02,  7.700e+01,\n",
              "        7.680e+02,  2.380e+02,  3.750e+02,  8.290e+02,  7.950e+02,\n",
              "        8.970e+02,  2.720e+02,  7.123e+03,  1.720e+02,  5.990e+02,\n",
              "        4.580e+02,  4.400e+01,  5.290e+02,  8.590e+02,  4.850e+02,\n",
              "        6.130e+02,  1.500e+02,  1.023e+03,  4.130e+02,  6.280e+02,\n",
              "        8.690e+02,  5.530e+02,  4.570e+02,  5.270e+02,  6.520e+02,\n",
              "        5.020e+02,  6.760e+02,  1.630e+02,  8.990e+02,  8.960e+02,\n",
              "        6.250e+02,  2.970e+02,  9.770e+02,  3.790e+02,  5.900e+02,\n",
              "        6.360e+02,  4.710e+02,  6.330e+02,  4.620e+02,  6.150e+02,\n",
              "        6.270e+02,  4.110e+02,  6.210e+02,  8.410e+02,  8.540e+02,\n",
              "        4.200e+02,  6.610e+02,  8.020e+02,  1.270e+02,  6.370e+02,\n",
              "        3.200e+01,  4.200e+01,  7.860e+02,  7.420e+02,  3.230e+02,\n",
              "        6.020e+02,  5.950e+02,  6.940e+02,  6.440e+02,  4.140e+02,\n",
              "        4.890e+02,  8.680e+02,  4.180e+02,  5.520e+02,  5.100e+01,\n",
              "        9.510e+02,  3.130e+02,  1.134e+03,  5.360e+02, -1.400e+01,\n",
              "        7.660e+02,  6.430e+02,  8.130e+02,  2.640e+02,  3.630e+02,\n",
              "        1.640e+02,  3.780e+02,  5.420e+02,  6.730e+02,  7.600e+02,\n",
              "        4.000e+02,  5.830e+02,  2.800e+02,  6.230e+02,  3.730e+02,\n",
              "        3.160e+02,  5.490e+02,  7.100e+02,  4.500e+02,  4.860e+02,\n",
              "        4.920e+02,  5.840e+03,  2.610e+02,  5.550e+02,  3.560e+02,\n",
              "        6.810e+02,  3.650e+02,  3.680e+02,  5.890e+02,  9.550e+02,\n",
              "        1.740e+02,  7.250e+02,  3.840e+02,  3.250e+02,  1.770e+02,\n",
              "        7.690e+02,  2.130e+02,  7.930e+02,  5.600e+02,  7.330e+02,\n",
              "        7.070e+02,  2.990e+02,  9.850e+02,  8.890e+02,  3.870e+02,\n",
              "       -2.130e+02,  4.280e+02,  3.860e+02,  4.550e+02,  3.340e+02,\n",
              "        6.840e+02,  5.120e+02,  6.900e+02,  7.440e+02,  6.500e+01,\n",
              "        1.014e+03,  6.620e+02,  1.230e+02,  5.280e+02,  6.950e+02,\n",
              "        6.720e+02,  5.598e+03,  1.610e+02,  3.190e+02,  7.730e+02,\n",
              "        6.910e+02,  6.490e+02,  7.010e+02,  4.800e+02,  4.040e+02,\n",
              "        7.030e+02,  7.500e+02,  5.330e+02,  3.040e+02,  4.960e+02,\n",
              "        4.870e+02,  8.400e+02,  5.170e+02,  3.410e+02,  8.240e+02,\n",
              "        2.910e+02,  5.590e+02,  6.240e+02,  5.250e+02,  4.990e+02,\n",
              "       -1.500e+01,  5.620e+02,  4.150e+02,  6.420e+02,  2.330e+02,\n",
              "        4.560e+02,  4.350e+02,  4.160e+02,  7.900e+02,  5.740e+02,\n",
              "        4.760e+02,  4.540e+02,  5.860e+02,  6.080e+02,  5.260e+02,\n",
              "        6.030e+02,  5.224e+03,  2.760e+02,  1.560e+02,  5.560e+02,\n",
              "        4.430e+02,  2.900e+02,  7.600e+01,  1.430e+02,  8.200e+02,\n",
              "        3.400e+02,  4.380e+02,  6.320e+02,  7.020e+02,  3.260e+02,\n",
              "        7.560e+02,  6.670e+02,  7.050e+02,  4.230e+02,  5.200e+02,\n",
              "        3.930e+02,  1.090e+02,  4.440e+02,  5.710e+02,  3.820e+02,\n",
              "        4.690e+02, -4.200e+01,  7.590e+02,  6.800e+02,  9.700e+01,\n",
              "       -5.000e+00,  7.880e+02,  1.190e+02,  5.350e+02,  7.770e+02,\n",
              "       -2.900e+01,  6.450e+02,  4.650e+02,  4.950e+02])"
            ]
          },
          "metadata": {},
          "execution_count": 12
        }
      ]
    },
    {
      "cell_type": "markdown",
      "source": [
        "### 2) Rating"
      ],
      "metadata": {
        "id": "LDme7-2aDnDT"
      }
    },
    {
      "cell_type": "code",
      "source": [
        "data['rating'].unique()"
      ],
      "metadata": {
        "colab": {
          "base_uri": "https://localhost:8080/"
        },
        "id": "A48p8bOPDvk1",
        "outputId": "8bf1eeb9-45bd-45d3-ae86-3b43e267c4a6"
      },
      "execution_count": 13,
      "outputs": [
        {
          "output_type": "execute_result",
          "data": {
            "text/plain": [
              "array([4.2, 3.5, 3.8, 3.2, 3.7, 4. , 4.5, 3. , 3.9, 3.6, 4.7, 4.4, nan,\n",
              "       3.1, 4.9, 4.6, 5. , 4.8, 4.3, 3.4, 4.1, 3.3])"
            ]
          },
          "metadata": {},
          "execution_count": 13
        }
      ]
    },
    {
      "cell_type": "code",
      "source": [
        "np.sum(data['rating'].isnull())"
      ],
      "metadata": {
        "colab": {
          "base_uri": "https://localhost:8080/"
        },
        "id": "Fti1EXEtD06C",
        "outputId": "2f569ed3-3178-4b2a-feb0-15887d234fdd"
      },
      "execution_count": 14,
      "outputs": [
        {
          "output_type": "execute_result",
          "data": {
            "text/plain": [
              "50"
            ]
          },
          "metadata": {},
          "execution_count": 14
        }
      ]
    },
    {
      "cell_type": "markdown",
      "source": [
        "Berdasarkan output di atas, terdapat beberapa kolom yang memiliki Missing Values dengan nilai 'nan'. Oleh karena itu, kita perlu membuat asumsi yang masuk akal berdasarkan jenis data yang tersedia.\n",
        "\n",
        "**Asumsi untuk Kolom \"Rating\"**\n",
        "\n",
        "Untuk kolom rating, asumsi yang masuk akal adalah mengisi nilai yang hilang dengan median rating. Hal ini karena median tidak terpengaruh oleh outlier dan lebih mewakili kecenderungan umum dari data rating yang tersedia. Selain itu, rating merupakan data ordinal, sehingga penggunaan median lebih sesuai dibandingkan rata-rata yang dapat terdistorsi oleh nilai ekstrem. Alternatif lain adalah mengisi nilai yang hilang berdasarkan kategori produk tertentu, jika terdapat pola distribusi rating yang berbeda antar kategori."
      ],
      "metadata": {
        "id": "C_CaJ3RJEDqL"
      }
    },
    {
      "cell_type": "code",
      "source": [
        "data['rating'].fillna(data['rating'].median(), inplace=True)"
      ],
      "metadata": {
        "colab": {
          "base_uri": "https://localhost:8080/"
        },
        "id": "q0-yA-ySELe3",
        "outputId": "a85e9604-3b57-4641-fcab-3b8e786bba6b"
      },
      "execution_count": 15,
      "outputs": [
        {
          "output_type": "stream",
          "name": "stderr",
          "text": [
            "<ipython-input-15-b2bf066af265>:1: FutureWarning: A value is trying to be set on a copy of a DataFrame or Series through chained assignment using an inplace method.\n",
            "The behavior will change in pandas 3.0. This inplace method will never work because the intermediate object on which we are setting values always behaves as a copy.\n",
            "\n",
            "For example, when doing 'df[col].method(value, inplace=True)', try using 'df.method({col: value}, inplace=True)' or df[col] = df[col].method(value) instead, to perform the operation inplace on the original object.\n",
            "\n",
            "\n",
            "  data['rating'].fillna(data['rating'].median(), inplace=True)\n"
          ]
        }
      ]
    },
    {
      "cell_type": "code",
      "source": [
        "np.sum(data['harga'].isnull())"
      ],
      "metadata": {
        "colab": {
          "base_uri": "https://localhost:8080/"
        },
        "id": "VfqPa1VVESJy",
        "outputId": "aa323cc3-8bc9-4663-9e64-2fac9f9f6435"
      },
      "execution_count": 16,
      "outputs": [
        {
          "output_type": "execute_result",
          "data": {
            "text/plain": [
              "0"
            ]
          },
          "metadata": {},
          "execution_count": 16
        }
      ]
    },
    {
      "cell_type": "code",
      "source": [
        "data['rating'].unique()"
      ],
      "metadata": {
        "colab": {
          "base_uri": "https://localhost:8080/"
        },
        "id": "lZocFruEEVmd",
        "outputId": "bdb36b52-433b-4f10-ac91-3447f7ee9b6c"
      },
      "execution_count": 18,
      "outputs": [
        {
          "output_type": "execute_result",
          "data": {
            "text/plain": [
              "array([4.2, 3.5, 3.8, 3.2, 3.7, 4. , 4.5, 3. , 3.9, 3.6, 4.7, 4.4, 3.1,\n",
              "       4.9, 4.6, 5. , 4.8, 4.3, 3.4, 4.1, 3.3])"
            ]
          },
          "metadata": {},
          "execution_count": 18
        }
      ]
    },
    {
      "cell_type": "markdown",
      "source": [
        "### 3) Jumlah Ulasan"
      ],
      "metadata": {
        "id": "d0OjlUWaEZia"
      }
    },
    {
      "cell_type": "code",
      "source": [
        "data['jumlah_ulasan'].unique()"
      ],
      "metadata": {
        "colab": {
          "base_uri": "https://localhost:8080/"
        },
        "id": "uduqCBRPEkb9",
        "outputId": "ae1737c0-8524-4665-acd1-7f8c67ea8c59"
      },
      "execution_count": 19,
      "outputs": [
        {
          "output_type": "execute_result",
          "data": {
            "text/plain": [
              "array([273., 239., 209.,  59.,  76., 309., 390.,  67., 268.,  nan, 335.,\n",
              "       139., 224., 181., 267., 111., 218., 300., 363., 480., 295., 125.,\n",
              "       159., 451.,  45., 462., 342., 486., 296., 312., 320., 217., 115.,\n",
              "       455., 167., 130.,  64., 409.,  21., 154., 405., 145., 477.,  12.,\n",
              "       153.,  39., 246., 288., 357., 113., 127.,  14., 257., 373., 330.,\n",
              "       158.,  93., 463., 475., 465., 240., 297., 170., 281., 469.,  47.,\n",
              "       235., 151., 301., 490., 160., 123.,  75., 370., 350., 484., 258.,\n",
              "       466., 458., 340., 332., 189., 199., 416., 163., 205., 271., 428.,\n",
              "       415., 436., 152., 351., 110., 253., 499., 248.,  58.,  51., 175.,\n",
              "        91., 438., 225., 471., 143., 345.,  16., 445.,  23.,  82., 408.,\n",
              "       414., 172., 356., 215., 285., 265., 275.,  34., 459., 290., 262.,\n",
              "       319., 298., 173., 104., 119., 247., 396., 492., 434., 399., 150.,\n",
              "       126., 491., 401., 461.,  88.,  77., 182., 453., 137., 105., 101.,\n",
              "        40., 343.,  29., 155., 325., 456., 169., 358.,  52., 263.,  69.,\n",
              "       476., 427., 354., 391., 276., 187., 424.,  65., 472.,  92., 402.,\n",
              "       108., 338., 165., 380., 272., 261., 106., 269., 112.,  49., 282.,\n",
              "       368., 389., 317., 230., 429., 133., 431.,  72., 494., 200.,  71.,\n",
              "       164., 479., 464., 238.,  95., 142., 192., 395., 228., 255., 147.,\n",
              "       323., 385., 432., 398.,  74.,  22., 222., 483., 190., 347., 474.,\n",
              "       197., 404., 291.,  43.,  61., 121., 241., 236., 242., 422.,  30.,\n",
              "       406., 122., 114., 201.,  26., 129., 138.,  57.,  38.,  19., 286.,\n",
              "       293., 212., 256., 299., 452., 223., 442., 410., 352., 353., 425.,\n",
              "       437.,  96.,  17., 394., 118., 444., 417., 161., 157., 375., 237.,\n",
              "       148., 220., 400.,  37.,  60., 270., 359., 361., 329., 120., 489.,\n",
              "       377., 229., 346., 232., 369., 418., 443., 460.,  87., 178., 226.,\n",
              "       387., 128., 264., 379., 149., 497., 383., 278., 360.,  20., 280.,\n",
              "       433., 411., 162., 324., 482., 287., 423., 183., 131.,  41., 231.,\n",
              "        48., 277., 440.,  27., 135., 311., 144., 245., 233., 244.,  31.,\n",
              "       294., 292.,  97.,  53., 470., 180., 430., 198., 362., 193.,  28.,\n",
              "        32., 304., 117., 376., 371., 195.,  81., 397., 393.])"
            ]
          },
          "metadata": {},
          "execution_count": 19
        }
      ]
    },
    {
      "cell_type": "code",
      "source": [
        "np.sum(data['jumlah_ulasan'].isnull())"
      ],
      "metadata": {
        "colab": {
          "base_uri": "https://localhost:8080/"
        },
        "id": "grIM5QbIEnig",
        "outputId": "c3a32023-b55c-44e7-8723-8e28dae2b437"
      },
      "execution_count": 20,
      "outputs": [
        {
          "output_type": "execute_result",
          "data": {
            "text/plain": [
              "20"
            ]
          },
          "metadata": {},
          "execution_count": 20
        }
      ]
    },
    {
      "cell_type": "markdown",
      "source": [
        "\n",
        "Berdasarkan output di atas, terdapat beberapa kolom yang memiliki Missing Values dengan nilai 'nan'. Oleh karena itu, kita perlu membuat asumsi yang masuk akal sesuai dengan jenis data yang tersedia.\n",
        "\n",
        "**Asumsi untuk kolom \"Jumlah Ulasan\"**\n",
        "\n",
        "Untuk kolom \"jumlah ulasan\", asumsi yang masuk akal adalah mengganti nilai yang hilang dengan median jumlah ulasan. Hal ini karena jumlah ulasan dapat bervariasi secara signifikan antar produk, dan median lebih stabil terhadap nilai ekstrem dibandingkan rata-rata. Alternatif lain adalah mengisi dengan nol (0) jika asumsi yang digunakan adalah bahwa produk yang memiliki missing value pada jumlah ulasan berarti belum mendapatkan ulasan dari pembeli. Jika ada pola distribusi yang jelas dalam kategori produk tertentu, maka nilai yang hilang dapat diisi dengan median atau rata-rata jumlah ulasan berdasarkan kategori masing-masing."
      ],
      "metadata": {
        "id": "fe7I62vAEqgk"
      }
    },
    {
      "cell_type": "code",
      "source": [
        "data['jumlah_ulasan']=data['jumlah_ulasan'].fillna(data['jumlah_ulasan'].median())"
      ],
      "metadata": {
        "id": "apgRbkNsFRIb"
      },
      "execution_count": 22,
      "outputs": []
    },
    {
      "cell_type": "code",
      "source": [
        "np.sum(data['jumlah_ulasan'].isnull())"
      ],
      "metadata": {
        "colab": {
          "base_uri": "https://localhost:8080/"
        },
        "id": "KZhx7OWXFbLo",
        "outputId": "cf2694d4-2b0a-408c-d55d-1a9e906adc08"
      },
      "execution_count": 23,
      "outputs": [
        {
          "output_type": "execute_result",
          "data": {
            "text/plain": [
              "0"
            ]
          },
          "metadata": {},
          "execution_count": 23
        }
      ]
    },
    {
      "cell_type": "code",
      "source": [
        "data['jumlah_ulasan'].unique()"
      ],
      "metadata": {
        "colab": {
          "base_uri": "https://localhost:8080/"
        },
        "id": "_Es1v8wzFciK",
        "outputId": "0b1ab383-7c15-4542-f173-75147b93df1b"
      },
      "execution_count": 24,
      "outputs": [
        {
          "output_type": "execute_result",
          "data": {
            "text/plain": [
              "array([273. , 239. , 209. ,  59. ,  76. , 309. , 390. ,  67. , 268. ,\n",
              "       262.5, 335. , 139. , 224. , 181. , 267. , 111. , 218. , 300. ,\n",
              "       363. , 480. , 295. , 125. , 159. , 451. ,  45. , 462. , 342. ,\n",
              "       486. , 296. , 312. , 320. , 217. , 115. , 455. , 167. , 130. ,\n",
              "        64. , 409. ,  21. , 154. , 405. , 145. , 477. ,  12. , 153. ,\n",
              "        39. , 246. , 288. , 357. , 113. , 127. ,  14. , 257. , 373. ,\n",
              "       330. , 158. ,  93. , 463. , 475. , 465. , 240. , 297. , 170. ,\n",
              "       281. , 469. ,  47. , 235. , 151. , 301. , 490. , 160. , 123. ,\n",
              "        75. , 370. , 350. , 484. , 258. , 466. , 458. , 340. , 332. ,\n",
              "       189. , 199. , 416. , 163. , 205. , 271. , 428. , 415. , 436. ,\n",
              "       152. , 351. , 110. , 253. , 499. , 248. ,  58. ,  51. , 175. ,\n",
              "        91. , 438. , 225. , 471. , 143. , 345. ,  16. , 445. ,  23. ,\n",
              "        82. , 408. , 414. , 172. , 356. , 215. , 285. , 265. , 275. ,\n",
              "        34. , 459. , 290. , 262. , 319. , 298. , 173. , 104. , 119. ,\n",
              "       247. , 396. , 492. , 434. , 399. , 150. , 126. , 491. , 401. ,\n",
              "       461. ,  88. ,  77. , 182. , 453. , 137. , 105. , 101. ,  40. ,\n",
              "       343. ,  29. , 155. , 325. , 456. , 169. , 358. ,  52. , 263. ,\n",
              "        69. , 476. , 427. , 354. , 391. , 276. , 187. , 424. ,  65. ,\n",
              "       472. ,  92. , 402. , 108. , 338. , 165. , 380. , 272. , 261. ,\n",
              "       106. , 269. , 112. ,  49. , 282. , 368. , 389. , 317. , 230. ,\n",
              "       429. , 133. , 431. ,  72. , 494. , 200. ,  71. , 164. , 479. ,\n",
              "       464. , 238. ,  95. , 142. , 192. , 395. , 228. , 255. , 147. ,\n",
              "       323. , 385. , 432. , 398. ,  74. ,  22. , 222. , 483. , 190. ,\n",
              "       347. , 474. , 197. , 404. , 291. ,  43. ,  61. , 121. , 241. ,\n",
              "       236. , 242. , 422. ,  30. , 406. , 122. , 114. , 201. ,  26. ,\n",
              "       129. , 138. ,  57. ,  38. ,  19. , 286. , 293. , 212. , 256. ,\n",
              "       299. , 452. , 223. , 442. , 410. , 352. , 353. , 425. , 437. ,\n",
              "        96. ,  17. , 394. , 118. , 444. , 417. , 161. , 157. , 375. ,\n",
              "       237. , 148. , 220. , 400. ,  37. ,  60. , 270. , 359. , 361. ,\n",
              "       329. , 120. , 489. , 377. , 229. , 346. , 232. , 369. , 418. ,\n",
              "       443. , 460. ,  87. , 178. , 226. , 387. , 128. , 264. , 379. ,\n",
              "       149. , 497. , 383. , 278. , 360. ,  20. , 280. , 433. , 411. ,\n",
              "       162. , 324. , 482. , 287. , 423. , 183. , 131. ,  41. , 231. ,\n",
              "        48. , 277. , 440. ,  27. , 135. , 311. , 144. , 245. , 233. ,\n",
              "       244. ,  31. , 294. , 292. ,  97. ,  53. , 470. , 180. , 430. ,\n",
              "       198. , 362. , 193. ,  28. ,  32. , 304. , 117. , 376. , 371. ,\n",
              "       195. ,  81. , 397. , 393. ])"
            ]
          },
          "metadata": {},
          "execution_count": 24
        }
      ]
    },
    {
      "cell_type": "markdown",
      "source": [
        "## **Hasil Penanganan Missing Value**"
      ],
      "metadata": {
        "id": "jePqmFfnFlrC"
      }
    },
    {
      "cell_type": "code",
      "source": [
        "np.sum(data.isnull())"
      ],
      "metadata": {
        "colab": {
          "base_uri": "https://localhost:8080/",
          "height": 360
        },
        "id": "XrowXdjqFxwo",
        "outputId": "13f81d99-7009-4150-ec64-6b8762245b36"
      },
      "execution_count": 25,
      "outputs": [
        {
          "output_type": "stream",
          "name": "stderr",
          "text": [
            "/usr/local/lib/python3.11/dist-packages/numpy/core/fromnumeric.py:86: FutureWarning: The behavior of DataFrame.sum with axis=None is deprecated, in a future version this will reduce over both axes and return a scalar. To retain the old behavior, pass axis=0 (or do not pass axis)\n",
            "  return reduction(axis=axis, out=out, **passkwargs)\n"
          ]
        },
        {
          "output_type": "execute_result",
          "data": {
            "text/plain": [
              "produk_id        0\n",
              "nama_produk      0\n",
              "kategori         0\n",
              "harga            0\n",
              "rating           0\n",
              "jumlah_ulasan    0\n",
              "negara_asal      0\n",
              "dtype: int64"
            ],
            "text/html": [
              "<div>\n",
              "<style scoped>\n",
              "    .dataframe tbody tr th:only-of-type {\n",
              "        vertical-align: middle;\n",
              "    }\n",
              "\n",
              "    .dataframe tbody tr th {\n",
              "        vertical-align: top;\n",
              "    }\n",
              "\n",
              "    .dataframe thead th {\n",
              "        text-align: right;\n",
              "    }\n",
              "</style>\n",
              "<table border=\"1\" class=\"dataframe\">\n",
              "  <thead>\n",
              "    <tr style=\"text-align: right;\">\n",
              "      <th></th>\n",
              "      <th>0</th>\n",
              "    </tr>\n",
              "  </thead>\n",
              "  <tbody>\n",
              "    <tr>\n",
              "      <th>produk_id</th>\n",
              "      <td>0</td>\n",
              "    </tr>\n",
              "    <tr>\n",
              "      <th>nama_produk</th>\n",
              "      <td>0</td>\n",
              "    </tr>\n",
              "    <tr>\n",
              "      <th>kategori</th>\n",
              "      <td>0</td>\n",
              "    </tr>\n",
              "    <tr>\n",
              "      <th>harga</th>\n",
              "      <td>0</td>\n",
              "    </tr>\n",
              "    <tr>\n",
              "      <th>rating</th>\n",
              "      <td>0</td>\n",
              "    </tr>\n",
              "    <tr>\n",
              "      <th>jumlah_ulasan</th>\n",
              "      <td>0</td>\n",
              "    </tr>\n",
              "    <tr>\n",
              "      <th>negara_asal</th>\n",
              "      <td>0</td>\n",
              "    </tr>\n",
              "  </tbody>\n",
              "</table>\n",
              "</div><br><label><b>dtype:</b> int64</label>"
            ]
          },
          "metadata": {},
          "execution_count": 25
        }
      ]
    },
    {
      "cell_type": "code",
      "source": [
        "data.info()"
      ],
      "metadata": {
        "colab": {
          "base_uri": "https://localhost:8080/"
        },
        "id": "T33ZGm1yF2rL",
        "outputId": "fd3ffbc1-01db-4a46-a335-dcf3ddecf494"
      },
      "execution_count": 26,
      "outputs": [
        {
          "output_type": "stream",
          "name": "stdout",
          "text": [
            "<class 'pandas.core.frame.DataFrame'>\n",
            "RangeIndex: 550 entries, 0 to 549\n",
            "Data columns (total 7 columns):\n",
            " #   Column         Non-Null Count  Dtype  \n",
            "---  ------         --------------  -----  \n",
            " 0   produk_id      550 non-null    int64  \n",
            " 1   nama_produk    550 non-null    object \n",
            " 2   kategori       550 non-null    object \n",
            " 3   harga          550 non-null    float64\n",
            " 4   rating         550 non-null    float64\n",
            " 5   jumlah_ulasan  550 non-null    float64\n",
            " 6   negara_asal    550 non-null    object \n",
            "dtypes: float64(3), int64(1), object(3)\n",
            "memory usage: 30.2+ KB\n"
          ]
        }
      ]
    },
    {
      "cell_type": "markdown",
      "source": [
        "## **3. Cek dan Penanganan Outlier**"
      ],
      "metadata": {
        "id": "tpJUU8YQF5iP"
      }
    },
    {
      "cell_type": "markdown",
      "source": [
        "Cek Outlier Outlier dapat dideteksi menggunakan beberapa metode:\n",
        "\n",
        "1.   Boxplot → Visualisasi distribusi dan outlier\n",
        "2.   Interquartile Range (IQR) → Mengidentifikasi outlier berdasarkan distribusi kuartil\n",
        "\n"
      ],
      "metadata": {
        "id": "BHet1FHdGbql"
      }
    },
    {
      "cell_type": "markdown",
      "source": [
        "### 1. Boxplot"
      ],
      "metadata": {
        "id": "_FzdCcvkGkUz"
      }
    },
    {
      "cell_type": "code",
      "source": [
        "import matplotlib.pyplot as plt\n",
        "import seaborn as sns\n",
        "\n",
        "# Kolom numerik yang ingin dicek outliernya\n",
        "num_cols = ['harga', 'rating', 'jumlah_ulasan']\n",
        "\n",
        "# Visualisasi\n",
        "plt.figure(figsize=(15, 8))\n",
        "for i, col in enumerate(num_cols, 1):\n",
        "    plt.subplot(3, 4, i)\n",
        "    sns.boxplot(y=data[col])\n",
        "    plt.title(col)\n",
        "plt.tight_layout()\n",
        "plt.show()"
      ],
      "metadata": {
        "colab": {
          "base_uri": "https://localhost:8080/",
          "height": 300
        },
        "id": "cpw5Z81yGrLH",
        "outputId": "dfff8889-eb33-49a8-dc25-681aa567a009"
      },
      "execution_count": 27,
      "outputs": [
        {
          "output_type": "display_data",
          "data": {
            "text/plain": [
              "<Figure size 1500x800 with 3 Axes>"
            ],
            "image/png": "[encoded data removed]"
          },
          "metadata": {}
        }
      ]
    },
    {
      "cell_type": "markdown",
      "source": [
        "### 2. IQR"
      ],
      "metadata": {
        "id": "UuQVrPLoG68_"
      }
    },
    {
      "cell_type": "code",
      "source": [
        "def detect_outliers_iqr(data, column):\n",
        "    Q1 = data[column].quantile(0.25)  # Kuartil 1\n",
        "    Q3 = data[column].quantile(0.75)  # Kuartil 3\n",
        "    IQR = Q3 - Q1  # Rentang interkuartil\n",
        "    lower_bound = Q1 - 1.5 * IQR\n",
        "    upper_bound = Q3 + 1.5 * IQR\n",
        "    return data[(data[column] < lower_bound) | (data[column] > upper_bound)]\n",
        "\n",
        "# Cek jumlah outlier untuk setiap kolom numerik\n",
        "for col in num_cols:\n",
        "    outliers = detect_outliers_iqr(data, col)\n",
        "    print(f\"{col}: {len(outliers)} outliers\")"
      ],
      "metadata": {
        "colab": {
          "base_uri": "https://localhost:8080/"
        },
        "id": "16uapQ-ZG9KF",
        "outputId": "dda61bc7-37af-43ad-f00c-3cde5534dbf1"
      },
      "execution_count": 28,
      "outputs": [
        {
          "output_type": "stream",
          "name": "stdout",
          "text": [
            "harga: 14 outliers\n",
            "rating: 0 outliers\n",
            "jumlah_ulasan: 0 outliers\n"
          ]
        }
      ]
    },
    {
      "cell_type": "markdown",
      "source": [
        "**Dampak Outlier**\n",
        "\n",
        "Keberadaan outlier dalam data dapat memberikan beberapa dampak signifikan terhadap analisis, di antaranya:\n",
        "\n",
        "\n",
        "\n",
        "1.   Mempengaruhi Rata-rata (Mean)\n",
        "\n",
        "Outlier dapat menarik atau mendorong nilai rata-rata sehingga tidak lagi mencerminkan nilai tengah data secara akurat.\n",
        "\n",
        "2. Mengganggu Hasil Statistik\n",
        "\n",
        "Statistik seperti standar deviasi, varians, dan regresi bisa menjadi bias atau tidak valid karena dipengaruhi oleh nilai ekstrem.\n",
        "\n",
        "3. Menyesatkan Visualisasi Data\n",
        "\n",
        "Grafik seperti histogram atau boxplot bisa menjadi tidak proporsional dan sulit diinterpretasikan jika terdapat outlier.\n",
        "\n",
        "4. Mempengaruhi Kinerja Model Machine Learning\n",
        "\n",
        "Model regresi dan algoritma berbasis jarak (misalnya K-Means, KNN) bisa terdistorsi karena terlalu dipengaruhi oleh outlier.\n",
        "\n",
        "5. Meningkatkan Risiko Kesalahan dalam Pengambilan Keputusan\n",
        "\n",
        "Jika tidak ditangani dengan baik, outlier dapat menyebabkan kesimpulan yang salah dalam analisis bisnis atau penelitian.\n",
        "\n",
        "Untuk menangani outlier, bisa dilakukan pendekatan seperti transformasi data, winsorizing (memotong nilai ekstrem), atau menggunakan metode deteksi seperti Z-score dan IQR."
      ],
      "metadata": {
        "id": "zUm-6uOeHIbs"
      }
    },
    {
      "cell_type": "markdown",
      "source": [
        "### **Winsorizing (Mengganti outlier dengan batas atas/bawah)**"
      ],
      "metadata": {
        "id": "xCq_jrelHvNK"
      }
    },
    {
      "cell_type": "code",
      "source": [
        "def winsorize_data(df, column, lower_quantile=0.05, upper_quantile=0.95):\n",
        "    lower_bound = df[column].quantile(lower_quantile)\n",
        "    upper_bound = df[column].quantile(upper_quantile)\n",
        "    df[column] = np.clip(df[column], lower_bound, upper_bound)\n",
        "    return df"
      ],
      "metadata": {
        "id": "jVFrQaOsISSa"
      },
      "execution_count": 29,
      "outputs": []
    },
    {
      "cell_type": "code",
      "source": [
        "# Menerapkan Winsorizing\n",
        "for col in num_cols:\n",
        "    winsorize_data(data, col)"
      ],
      "metadata": {
        "id": "HYQ_NYq8IXQd"
      },
      "execution_count": 31,
      "outputs": []
    },
    {
      "cell_type": "code",
      "source": [
        "#cek boxplot\n",
        "\n",
        "num_cols = ['harga', 'rating', 'jumlah_ulasan']\n",
        "\n",
        "# Visualisasi Boxplot\n",
        "plt.figure(figsize=(15, 8))\n",
        "for i, col in enumerate(num_cols, 1):\n",
        "    plt.subplot(3, 4, i)\n",
        "    sns.boxplot(y=data[col])\n",
        "    plt.title(col)\n",
        "plt.tight_layout()\n",
        "plt.show()"
      ],
      "metadata": {
        "colab": {
          "base_uri": "https://localhost:8080/",
          "height": 300
        },
        "id": "tsNaRXltIk_C",
        "outputId": "e4f139d2-a6dd-43b3-d6ed-eecb96157eb2"
      },
      "execution_count": 32,
      "outputs": [
        {
          "output_type": "display_data",
          "data": {
            "text/plain": [
              "<Figure size 1500x800 with 3 Axes>"
            ],
            "image/png": "[encoded data removed]"
          },
          "metadata": {}
        }
      ]
    },
    {
      "cell_type": "markdown",
      "source": [
        "## **4. Encoding Data**\n",
        "\n",
        "Encoding adalah teknik untuk mengonversi data kategorik ke dalam bentuk numerik agar dapat diproses oleh algoritma Machine Learning. Karena sebagian besar model hanya bekerja dengan angka, maka data kategorik perlu ditransformasikan sebelum digunakan dalam pemodelan.\n",
        "\n",
        "🔹 **Metode Encoding dalam Machine Learning**  \n",
        "Berbagai teknik encoding dapat diterapkan tergantung pada karakteristik data kategorik, di antaranya:\n",
        "\n",
        "1. **One-Hot Encoding (OHE)** – Mengubah setiap kategori menjadi kolom biner (0/1). Metode ini efektif jika jumlah kategori terbatas, karena semakin banyak kategori, semakin tinggi dimensi data yang dihasilkan.  \n",
        "2. **Ordinal Encoding** – Mengonversi kategori menjadi angka berurutan (0,1,2, ...), cocok untuk data dengan tingkatan jelas, seperti jenjang pendidikan (SD < SMP < SMA).  \n",
        "3. **Target Encoding** – Mengganti kategori dengan rata-rata nilai target (misalnya rata-rata rating IMDB per negara), efektif ketika terdapat korelasi kuat antara kategori dan variabel target."
      ],
      "metadata": {
        "id": "fGW_Of49Ivo_"
      }
    },
    {
      "cell_type": "markdown",
      "source": [
        "Dari data yang ditampilkan, kolom yang perlu di-encoding adalah kolom dengan tipe data **object**, yaitu:\n",
        "\n",
        "1. **kategori** – Perlu di-encode karena merupakan data kategorikal.\n",
        "2#melihat isi dalam kolom. **negara_asal** – Perlu di-encode karena berisi kategori negara.\n",
        "\n",
        "Kolom lainnya seperti **produk_id, harga, rating, dan jumlah_ulasan** sudah dalam bentuk numerik sehingga tidak memerlukan encoding."
      ],
      "metadata": {
        "id": "HRUu95VSJFeS"
      }
    },
    {
      "cell_type": "code",
      "source": [
        "#melihat isi dalam kolom\n",
        "data['kategori'].unique()"
      ],
      "metadata": {
        "colab": {
          "base_uri": "https://localhost:8080/"
        },
        "id": "EYdLTlCvJsB3",
        "outputId": "f871c300-ddf2-44f3-a491-f042f02fd544"
      },
      "execution_count": 35,
      "outputs": [
        {
          "output_type": "execute_result",
          "data": {
            "text/plain": [
              "array(['Smartwatch', 'Headphone', 'Tablet', 'Laptop', 'Camera',\n",
              "       'Smartphone'], dtype=object)"
            ]
          },
          "metadata": {},
          "execution_count": 35
        }
      ]
    },
    {
      "cell_type": "code",
      "source": [
        "data['negara_asal'].unique()"
      ],
      "metadata": {
        "colab": {
          "base_uri": "https://localhost:8080/"
        },
        "id": "KSOtfWinJ6oI",
        "outputId": "9529817f-2f8c-46a2-db0f-a4817a9e765d"
      },
      "execution_count": 36,
      "outputs": [
        {
          "output_type": "execute_result",
          "data": {
            "text/plain": [
              "array(['Japan', 'Canada', 'South Korea', 'France', 'USA', 'Germany',\n",
              "       'China', 'India', 'UK'], dtype=object)"
            ]
          },
          "metadata": {},
          "execution_count": 36
        }
      ]
    },
    {
      "cell_type": "markdown",
      "source": [
        "## 4. b) Bandingkan berbagai metode encoding dan pilih metode yang paling sesuai untuk setiap kolom. Jelaskan alasan pemilihan metode tersebut.\n",
        "\n",
        "1. One-Hot Encoding (OHE)\n",
        "\n",
        "🔹 Cara kerja: Mengubah setiap kategori menjadi kolom biner (0 atau 1).\n",
        "\n",
        "🔹 Kelebihan: Tidak mengasumsikan urutan dalam kategori dan cocok untuk kategori yang tidak terlalu banyak.\n",
        "\n",
        "🔹 Kekurangan: Jika kategori terlalu banyak, bisa menyebabkan dimensionalitas tinggi.\n",
        "\n",
        "\n",
        "\n",
        "2. Ordinal Encoding\n",
        "\n",
        "\n",
        "🔹 Cara kerja: Mengubah kategori menjadi angka berurutan (misalnya: A=0, B=1, C=2).\n",
        "\n",
        "🔹 Kelebihan: Efektif untuk kategori yang memiliki hubungan atau urutan.\n",
        "\n",
        "🔹 Kekurangan: Tidak cocok untuk kategori tanpa urutan karena bisa menimbulkan bias dalam model.\n",
        "\n",
        "\n",
        "\n",
        "3. Target Encoding\n",
        "\n",
        "🔹 Cara kerja: Mengganti kategori dengan nilai rata-rata dari target (misalnya rata-rata harga atau rating dari setiap kategori).\n",
        "\n",
        "🔹 Kelebihan: Mengurangi dimensionalitas dibandingkan dengan OHE dan bisa menangkap hubungan statistik.\n",
        "\n",
        "🔹 Kekurangan: Bisa menyebabkan overfitting, terutama jika dataset kecil.\n",
        "\n",
        "\n"
      ],
      "metadata": {
        "id": "a7TlyaIzKG-D"
      }
    },
    {
      "cell_type": "markdown",
      "source": [
        "Pemilihan Metode Encoding untuk Setiap Kolom\n",
        "\n",
        "\n",
        "1. Kolom kategori\n",
        "\n",
        "Gunakan One-Hot Encoding, karena kategori tidak memiliki urutan yang jelas dan jumlahnya kemungkinan tidak terlalu banyak.\n",
        "\n"
      ],
      "metadata": {
        "id": "NIvs_smKMeNK"
      }
    },
    {
      "cell_type": "code",
      "source": [
        "import pandas as pd\n",
        "\n",
        "# Contoh data\n",
        "data = pd.DataFrame({\n",
        "    'kategori': ['Smartwatch', 'Laptop', 'Smartphone', 'Camera', 'Tablet', 'Headphone', 'PC']\n",
        "})\n",
        "\n",
        "# Buat dictionary untuk pengkategorian macam-macam perangkat elektronik berdasarkan mobilitas (portabilitas)\n",
        "mobilitas_portabilitas = {\n",
        "    'Smartwatch': 'Portabel',\n",
        "    'Headphone': 'Portabel',\n",
        "    'Tablet': 'Portabel',\n",
        "    'Laptop': 'Kurang_Portabel',\n",
        "    'Camera': 'Portabel',\n",
        "    'Smartphone': 'Portabel'\n",
        "}\n",
        "\n",
        "# Ubah kategori menjadi mobilitas\n",
        "data['kategori_mobilitas'] = data['kategori'].map(mobilitas_portabilitas).fillna('Others')\n",
        "\n",
        "# One-Hot Encoding pada mobilitas\n",
        "data = pd.get_dummies(data, columns=['kategori_mobilitas'], prefix='mobilitas')\n",
        "\n",
        "# Tampilkan hasil\n",
        "print(data)\n"
      ],
      "metadata": {
        "colab": {
          "base_uri": "https://localhost:8080/"
        },
        "id": "g1mkXIbCM-He",
        "outputId": "dcdd6119-adeb-4c28-a097-f100b2e7fb03"
      },
      "execution_count": 39,
      "outputs": [
        {
          "output_type": "stream",
          "name": "stdout",
          "text": [
            "     kategori  mobilitas_Kurang_Portabel  mobilitas_Others  mobilitas_Portabel\n",
            "0  Smartwatch                      False             False                True\n",
            "1      Laptop                       True             False               False\n",
            "2  Smartphone                      False             False                True\n",
            "3      Camera                      False             False                True\n",
            "4      Tablet                      False             False                True\n",
            "5   Headphone                      False             False                True\n",
            "6          PC                      False              True               False\n"
          ]
        }
      ]
    },
    {
      "cell_type": "markdown",
      "source": [
        "2. Kolom negara_asal  \n",
        "\n",
        "Gunakan Target Encoding atau One-Hot Encoding, tergantung pada jumlah kategori. Jika jumlah negara sedikit, gunakan One-Hot Encoding. Jika jumlah negara banyak dan ada korelasi dengan target (misalnya harga atau rating), Target Encoding lebih baik untuk mengurangi jumlah kolom tambahan."
      ],
      "metadata": {
        "id": "g4wHbriOOmcU"
      }
    },
    {
      "cell_type": "code",
      "source": [
        "import pandas as pd\n",
        "\n",
        "# Contoh data\n",
        "data = pd.DataFrame({\n",
        "    'negara_asal': ['USA', 'Germany', 'India', 'China', 'Canada', 'France', 'South Korea', 'Brazil']\n",
        "})\n",
        "\n",
        "# Buat dictionary untuk mapping negara ke region\n",
        "country_to_region = {\n",
        "    'USA': 'North America',\n",
        "    'Canada': 'North America',\n",
        "    'UK': 'Europe',\n",
        "    'France': 'Europe',\n",
        "    'Germany': 'Europe',\n",
        "    'China': 'Asia',\n",
        "    'Japan': 'Asia',\n",
        "    'India': 'Asia',\n",
        "    'South Korea': 'Asia',\n",
        "}\n",
        "\n",
        "# Ubah negara menjadi region\n",
        "data['country_region'] = data['negara_asal'].map(country_to_region).fillna('Others')\n",
        "\n",
        "# One-Hot Encoding pada region\n",
        "data = pd.get_dummies(data, columns=['country_region'], prefix='region')\n",
        "\n",
        "# Tampilkan hasil\n",
        "print(data)\n"
      ],
      "metadata": {
        "colab": {
          "base_uri": "https://localhost:8080/"
        },
        "id": "zpUWOWCqOnYY",
        "outputId": "0de19083-648d-4cdb-b1e8-590865b6d612"
      },
      "execution_count": 40,
      "outputs": [
        {
          "output_type": "stream",
          "name": "stdout",
          "text": [
            "   negara_asal  region_Asia  region_Europe  region_North America  \\\n",
            "0          USA        False          False                  True   \n",
            "1      Germany        False           True                 False   \n",
            "2        India         True          False                 False   \n",
            "3        China         True          False                 False   \n",
            "4       Canada        False          False                  True   \n",
            "5       France        False           True                 False   \n",
            "6  South Korea         True          False                 False   \n",
            "7       Brazil        False          False                 False   \n",
            "\n",
            "   region_Others  \n",
            "0          False  \n",
            "1          False  \n",
            "2          False  \n",
            "3          False  \n",
            "4          False  \n",
            "5          False  \n",
            "6          False  \n",
            "7           True  \n"
          ]
        }
      ]
    },
    {
      "cell_type": "code",
      "source": [
        "data.info()"
      ],
      "metadata": {
        "colab": {
          "base_uri": "https://localhost:8080/"
        },
        "id": "2_YgDSONO7UR",
        "outputId": "fe95ccc0-46cd-4d6b-9994-50091520431b"
      },
      "execution_count": 41,
      "outputs": [
        {
          "output_type": "stream",
          "name": "stdout",
          "text": [
            "<class 'pandas.core.frame.DataFrame'>\n",
            "RangeIndex: 8 entries, 0 to 7\n",
            "Data columns (total 5 columns):\n",
            " #   Column                Non-Null Count  Dtype \n",
            "---  ------                --------------  ----- \n",
            " 0   negara_asal           8 non-null      object\n",
            " 1   region_Asia           8 non-null      bool  \n",
            " 2   region_Europe         8 non-null      bool  \n",
            " 3   region_North America  8 non-null      bool  \n",
            " 4   region_Others         8 non-null      bool  \n",
            "dtypes: bool(4), object(1)\n",
            "memory usage: 228.0+ bytes\n"
          ]
        }
      ]
    }
  ]
}